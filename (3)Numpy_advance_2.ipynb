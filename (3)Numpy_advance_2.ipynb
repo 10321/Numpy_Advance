{
  "cells": [
    {
      "cell_type": "code",
      "execution_count": null,
      "id": "cb51d302",
      "metadata": {
        "id": "cb51d302"
      },
      "outputs": [],
      "source": [
        "import numpy as np\n",
        "data = np.array([[1], [2], [3]])"
      ]
    },
    {
      "cell_type": "code",
      "execution_count": null,
      "id": "97b6e27b",
      "metadata": {
        "id": "97b6e27b",
        "outputId": "4c2d7791-8f1f-4e8a-cd1f-c2946ce691f8"
      },
      "outputs": [
        {
          "data": {
            "text/plain": [
              "2"
            ]
          },
          "execution_count": 4,
          "metadata": {},
          "output_type": "execute_result"
        }
      ],
      "source": [
        "data.ndim"
      ]
    },
    {
      "cell_type": "code",
      "execution_count": null,
      "id": "3b644e1f",
      "metadata": {
        "id": "3b644e1f",
        "outputId": "bba048cb-73b2-4a28-e733-3b7bb7dde858"
      },
      "outputs": [
        {
          "data": {
            "text/plain": [
              "array([[1],\n",
              "       [2],\n",
              "       [3]])"
            ]
          },
          "execution_count": 5,
          "metadata": {},
          "output_type": "execute_result"
        }
      ],
      "source": [
        "data"
      ]
    },
    {
      "cell_type": "code",
      "execution_count": null,
      "id": "6be2f497",
      "metadata": {
        "id": "6be2f497"
      },
      "outputs": [],
      "source": [
        "a=np.squeeze(data) # will reduce an array by one dimension"
      ]
    },
    {
      "cell_type": "code",
      "execution_count": null,
      "id": "5cfac6da",
      "metadata": {
        "id": "5cfac6da",
        "outputId": "3eff7ee9-82e8-4183-e85d-5a2ca4d1e4d1"
      },
      "outputs": [
        {
          "data": {
            "text/plain": [
              "array([1, 2, 3])"
            ]
          },
          "execution_count": 10,
          "metadata": {},
          "output_type": "execute_result"
        }
      ],
      "source": [
        "a"
      ]
    },
    {
      "cell_type": "code",
      "execution_count": null,
      "id": "92bdfbe8",
      "metadata": {
        "id": "92bdfbe8",
        "outputId": "a91954a4-3c0f-4d9a-cd22-403177a55ab4"
      },
      "outputs": [
        {
          "data": {
            "text/plain": [
              "1"
            ]
          },
          "execution_count": 8,
          "metadata": {},
          "output_type": "execute_result"
        }
      ],
      "source": [
        "a.ndim"
      ]
    },
    {
      "cell_type": "code",
      "execution_count": null,
      "id": "f46cca90",
      "metadata": {
        "id": "f46cca90",
        "outputId": "702474f5-09f9-45c0-8e18-45013c67b1cf"
      },
      "outputs": [
        {
          "data": {
            "text/plain": [
              "array([[1],\n",
              "       [2],\n",
              "       [3]])"
            ]
          },
          "execution_count": 11,
          "metadata": {},
          "output_type": "execute_result"
        }
      ],
      "source": [
        "#repeat\n",
        "data"
      ]
    },
    {
      "cell_type": "code",
      "execution_count": null,
      "id": "2dda7d17",
      "metadata": {
        "id": "2dda7d17",
        "outputId": "d449b105-8730-4c5d-c6d7-84e4ffa99843"
      },
      "outputs": [
        {
          "data": {
            "text/plain": [
              "array([1, 1, 1, 1, 2, 2, 2, 2, 3, 3, 3, 3])"
            ]
          },
          "execution_count": 12,
          "metadata": {},
          "output_type": "execute_result"
        }
      ],
      "source": [
        "np.repeat(data, 4) # Repeat elements of an array."
      ]
    },
    {
      "cell_type": "code",
      "execution_count": null,
      "id": "7a41989a",
      "metadata": {
        "id": "7a41989a"
      },
      "outputs": [],
      "source": [
        "a = np.array([[1, 2], [3, 4]])"
      ]
    },
    {
      "cell_type": "code",
      "execution_count": null,
      "id": "1feaba86",
      "metadata": {
        "id": "1feaba86",
        "outputId": "d056163b-b48e-40a2-b937-f6f09558cbc2"
      },
      "outputs": [
        {
          "data": {
            "text/plain": [
              "array([[1, 2],\n",
              "       [3, 4]])"
            ]
          },
          "execution_count": 15,
          "metadata": {},
          "output_type": "execute_result"
        }
      ],
      "source": [
        "a"
      ]
    },
    {
      "cell_type": "code",
      "execution_count": null,
      "id": "b09da27f",
      "metadata": {
        "id": "b09da27f",
        "outputId": "da763313-34f6-4841-b141-8293faf2543a"
      },
      "outputs": [
        {
          "data": {
            "text/plain": [
              "array([1, 1, 2, 2, 3, 3, 4, 4])"
            ]
          },
          "execution_count": 16,
          "metadata": {},
          "output_type": "execute_result"
        }
      ],
      "source": [
        "np.repeat(a, 2) # we can observe that it gives output after flattening the array, no dimension, original shape"
      ]
    },
    {
      "cell_type": "code",
      "execution_count": null,
      "id": "fbbd1c56",
      "metadata": {
        "id": "fbbd1c56",
        "outputId": "da5ba158-7777-4023-b395-ba962d182237"
      },
      "outputs": [
        {
          "data": {
            "text/plain": [
              "array([[1, 2],\n",
              "       [3, 4]])"
            ]
          },
          "execution_count": 18,
          "metadata": {},
          "output_type": "execute_result"
        }
      ],
      "source": [
        "a"
      ]
    },
    {
      "cell_type": "code",
      "execution_count": null,
      "id": "bb276406",
      "metadata": {
        "id": "bb276406",
        "outputId": "7c2791e5-d4aa-46cd-dd6a-ad0743c3b396"
      },
      "outputs": [
        {
          "data": {
            "text/plain": [
              "array([[1, 1, 2, 2],\n",
              "       [3, 3, 4, 4]])"
            ]
          },
          "execution_count": 17,
          "metadata": {},
          "output_type": "execute_result"
        }
      ],
      "source": [
        "np.repeat(a, 2, axis = 1)"
      ]
    },
    {
      "cell_type": "code",
      "execution_count": null,
      "id": "ba8f46e6",
      "metadata": {
        "id": "ba8f46e6",
        "outputId": "4224cdc5-8630-497a-b4c0-12eeb249ac1e"
      },
      "outputs": [
        {
          "data": {
            "text/plain": [
              "array([[1, 2],\n",
              "       [1, 2],\n",
              "       [3, 4],\n",
              "       [3, 4]])"
            ]
          },
          "execution_count": 19,
          "metadata": {},
          "output_type": "execute_result"
        }
      ],
      "source": [
        "np.repeat(a, 2, axis = 0)"
      ]
    },
    {
      "cell_type": "code",
      "execution_count": null,
      "id": "ec4b18f3",
      "metadata": {
        "id": "ec4b18f3",
        "outputId": "e0797136-62d4-47a1-d612-de178af20bad"
      },
      "outputs": [
        {
          "data": {
            "text/plain": [
              "array([[1],\n",
              "       [2],\n",
              "       [3]])"
            ]
          },
          "execution_count": 20,
          "metadata": {},
          "output_type": "execute_result"
        }
      ],
      "source": [
        "data"
      ]
    },
    {
      "cell_type": "code",
      "execution_count": null,
      "id": "bb04527f",
      "metadata": {
        "id": "bb04527f",
        "outputId": "ddd6b15a-370f-447f-8b25-a990d05af96f"
      },
      "outputs": [
        {
          "data": {
            "text/plain": [
              "array([[3],\n",
              "       [1],\n",
              "       [2]])"
            ]
          },
          "execution_count": 25,
          "metadata": {},
          "output_type": "execute_result"
        }
      ],
      "source": [
        "np.roll(data, -2)"
      ]
    },
    {
      "cell_type": "code",
      "execution_count": null,
      "id": "b71ebe6a",
      "metadata": {
        "id": "b71ebe6a",
        "outputId": "f46c2e22-dcf5-459c-ed64-348d5e458280"
      },
      "outputs": [
        {
          "data": {
            "text/plain": [
              "array([[1, 0, 0, 0],\n",
              "       [0, 2, 0, 0],\n",
              "       [0, 0, 3, 0],\n",
              "       [0, 0, 0, 4]])"
            ]
          },
          "execution_count": 24,
          "metadata": {},
          "output_type": "execute_result"
        }
      ],
      "source": [
        "np.diag(np.array([1, 2, 3, 4])) #np.diag(v, k=0)-->Extract a diagonal or construct a diagonal array."
      ]
    },
    {
      "cell_type": "code",
      "execution_count": null,
      "id": "b67691ef",
      "metadata": {
        "id": "b67691ef"
      },
      "outputs": [],
      "source": [
        "a = np.array([[[1, 2], [3, 4], [5,6]]])"
      ]
    },
    {
      "cell_type": "code",
      "execution_count": null,
      "id": "32f24dd4",
      "metadata": {
        "id": "32f24dd4",
        "outputId": "0a1b6142-86eb-46a9-b474-141f7eef742b"
      },
      "outputs": [
        {
          "data": {
            "text/plain": [
              "array([[[1, 2],\n",
              "        [3, 4],\n",
              "        [5, 6]]])"
            ]
          },
          "execution_count": 29,
          "metadata": {},
          "output_type": "execute_result"
        }
      ],
      "source": [
        "a"
      ]
    },
    {
      "cell_type": "code",
      "execution_count": null,
      "id": "1c862653",
      "metadata": {
        "id": "1c862653",
        "outputId": "13a38f9f-397e-492b-ef7e-7f1d9b20147e"
      },
      "outputs": [
        {
          "data": {
            "text/plain": [
              "array([[[1, 2],\n",
              "        [3, 4],\n",
              "        [5, 6]]])"
            ]
          },
          "execution_count": 36,
          "metadata": {},
          "output_type": "execute_result"
        }
      ],
      "source": [
        "np.roll(a, 2, axis = 0)"
      ]
    },
    {
      "cell_type": "code",
      "execution_count": null,
      "id": "843c5082",
      "metadata": {
        "id": "843c5082"
      },
      "outputs": [],
      "source": [
        "#binary operation on array"
      ]
    },
    {
      "cell_type": "code",
      "execution_count": null,
      "id": "93b6022d",
      "metadata": {
        "id": "93b6022d"
      },
      "outputs": [],
      "source": [
        "arr1 = np.random.randint(1, 10, (3, 4))\n",
        "arr2 = np.random.randint(1, 10, (3, 4))"
      ]
    },
    {
      "cell_type": "code",
      "execution_count": null,
      "id": "a637a461",
      "metadata": {
        "id": "a637a461",
        "outputId": "6604cf73-738e-4637-f2fb-f60c1ff93905"
      },
      "outputs": [
        {
          "data": {
            "text/plain": [
              "array([[2, 7, 1, 6],\n",
              "       [4, 7, 4, 2],\n",
              "       [7, 9, 8, 4]])"
            ]
          },
          "execution_count": 40,
          "metadata": {},
          "output_type": "execute_result"
        }
      ],
      "source": [
        "arr1"
      ]
    },
    {
      "cell_type": "code",
      "execution_count": null,
      "id": "3ec57a6b",
      "metadata": {
        "id": "3ec57a6b",
        "outputId": "525551ef-8839-4f54-aedf-be382b28ee91"
      },
      "outputs": [
        {
          "data": {
            "text/plain": [
              "array([[3, 9, 6, 7],\n",
              "       [2, 7, 4, 7],\n",
              "       [9, 3, 6, 3]])"
            ]
          },
          "execution_count": 41,
          "metadata": {},
          "output_type": "execute_result"
        }
      ],
      "source": [
        "arr2"
      ]
    },
    {
      "cell_type": "code",
      "execution_count": null,
      "id": "301b5ffc",
      "metadata": {
        "id": "301b5ffc",
        "outputId": "3e1466a5-3d3e-44df-92c5-db3576f5fb90"
      },
      "outputs": [
        {
          "data": {
            "text/plain": [
              "array([[ 5, 16,  7, 13],\n",
              "       [ 6, 14,  8,  9],\n",
              "       [16, 12, 14,  7]])"
            ]
          },
          "execution_count": 43,
          "metadata": {},
          "output_type": "execute_result"
        }
      ],
      "source": [
        "arr1+arr2"
      ]
    },
    {
      "cell_type": "code",
      "execution_count": null,
      "id": "e5327b1f",
      "metadata": {
        "id": "e5327b1f",
        "outputId": "4611d128-8457-467a-dd57-c524e3b8a809"
      },
      "outputs": [
        {
          "data": {
            "text/plain": [
              "array([[ 6, 63,  6, 42],\n",
              "       [ 8, 49, 16, 14],\n",
              "       [63, 27, 48, 12]])"
            ]
          },
          "execution_count": 44,
          "metadata": {},
          "output_type": "execute_result"
        }
      ],
      "source": [
        "arr1*arr2 # index vise multiplication"
      ]
    },
    {
      "cell_type": "code",
      "execution_count": null,
      "id": "27be5b52",
      "metadata": {
        "id": "27be5b52",
        "outputId": "89bb2d52-bfed-40c1-90ee-96accd20a328"
      },
      "outputs": [
        {
          "data": {
            "text/plain": [
              "array([[0.66666667, 0.77777778, 0.16666667, 0.85714286],\n",
              "       [2.        , 1.        , 1.        , 0.28571429],\n",
              "       [0.77777778, 3.        , 1.33333333, 1.33333333]])"
            ]
          },
          "execution_count": 45,
          "metadata": {},
          "output_type": "execute_result"
        }
      ],
      "source": [
        "arr1 / arr2"
      ]
    },
    {
      "cell_type": "code",
      "execution_count": null,
      "id": "b0034874",
      "metadata": {
        "id": "b0034874",
        "outputId": "9cc39255-f539-4603-a852-4d962de84da8"
      },
      "outputs": [
        {
          "data": {
            "text/plain": [
              "array([[-1, -2, -5, -1],\n",
              "       [ 2,  0,  0, -5],\n",
              "       [-2,  6,  2,  1]])"
            ]
          },
          "execution_count": 46,
          "metadata": {},
          "output_type": "execute_result"
        }
      ],
      "source": [
        "arr1 - arr2"
      ]
    },
    {
      "cell_type": "code",
      "execution_count": null,
      "id": "dc8be527",
      "metadata": {
        "id": "dc8be527",
        "outputId": "46fe84cf-6ed9-4514-840c-86a4b98586a1"
      },
      "outputs": [
        {
          "data": {
            "text/plain": [
              "array([[       8, 40353607,        1,   279936],\n",
              "       [      16,   823543,      256,      128],\n",
              "       [40353607,      729,   262144,       64]])"
            ]
          },
          "execution_count": 47,
          "metadata": {},
          "output_type": "execute_result"
        }
      ],
      "source": [
        "arr1 ** arr2"
      ]
    },
    {
      "cell_type": "code",
      "execution_count": null,
      "id": "ca6e3325",
      "metadata": {
        "id": "ca6e3325",
        "outputId": "2da2c816-7fdb-4657-f442-c8d1f6655f5d"
      },
      "outputs": [
        {
          "data": {
            "text/plain": [
              "array([[2, 7, 1, 6],\n",
              "       [4, 7, 4, 2],\n",
              "       [7, 9, 8, 4]])"
            ]
          },
          "execution_count": 51,
          "metadata": {},
          "output_type": "execute_result"
        }
      ],
      "source": [
        "arr1"
      ]
    },
    {
      "cell_type": "code",
      "execution_count": null,
      "id": "042ee1e8",
      "metadata": {
        "id": "042ee1e8",
        "outputId": "c717dee0-921f-4ad5-d0ef-425cc2623a59"
      },
      "outputs": [
        {
          "data": {
            "text/plain": [
              "array([[3, 9, 6, 7],\n",
              "       [2, 7, 4, 7],\n",
              "       [9, 3, 6, 3]])"
            ]
          },
          "execution_count": 52,
          "metadata": {},
          "output_type": "execute_result"
        }
      ],
      "source": [
        "arr2"
      ]
    },
    {
      "cell_type": "code",
      "execution_count": null,
      "id": "d7c11a6e",
      "metadata": {
        "id": "d7c11a6e",
        "outputId": "22511a6e-3a10-4c3f-8ded-f91149c134f5"
      },
      "outputs": [
        {
          "data": {
            "text/plain": [
              "array([[False, False, False, False],\n",
              "       [ True, False, False, False],\n",
              "       [False,  True,  True,  True]])"
            ]
          },
          "execution_count": 48,
          "metadata": {},
          "output_type": "execute_result"
        }
      ],
      "source": [
        "arr1 > arr2"
      ]
    },
    {
      "cell_type": "code",
      "execution_count": null,
      "id": "8fc31646",
      "metadata": {
        "id": "8fc31646",
        "outputId": "0db169b3-25f4-470c-b682-6206ea4487c8"
      },
      "outputs": [
        {
          "data": {
            "text/plain": [
              "array([[ -3,  -8,  -2,  -7],\n",
              "       [ -5,  -8,  -5,  -3],\n",
              "       [ -8, -10,  -9,  -5]])"
            ]
          },
          "execution_count": 49,
          "metadata": {},
          "output_type": "execute_result"
        }
      ],
      "source": [
        "~arr1 # bit-wise negation of arr1"
      ]
    },
    {
      "cell_type": "code",
      "execution_count": null,
      "id": "3c33496a",
      "metadata": {
        "id": "3c33496a",
        "outputId": "8e381192-aa83-4008-e7be-72984ba69ba8"
      },
      "outputs": [
        {
          "data": {
            "text/plain": [
              "array([[2, 7, 1, 6],\n",
              "       [4, 7, 4, 2],\n",
              "       [7, 9, 8, 4]])"
            ]
          },
          "execution_count": 50,
          "metadata": {},
          "output_type": "execute_result"
        }
      ],
      "source": [
        "arr1"
      ]
    },
    {
      "cell_type": "code",
      "execution_count": null,
      "id": "7ba4ec8a",
      "metadata": {
        "id": "7ba4ec8a"
      },
      "outputs": [],
      "source": [
        "#Numpy string function"
      ]
    },
    {
      "cell_type": "code",
      "execution_count": null,
      "id": "f5974755",
      "metadata": {
        "id": "f5974755"
      },
      "outputs": [],
      "source": [
        "arr = np.array([\"pw\", \"skills\"])"
      ]
    },
    {
      "cell_type": "code",
      "execution_count": null,
      "id": "322a9c5d",
      "metadata": {
        "id": "322a9c5d",
        "outputId": "c6c29ffa-e969-4d06-b5a6-87a80e2d8412"
      },
      "outputs": [
        {
          "data": {
            "text/plain": [
              "array(['pw', 'skills'], dtype='<U6')"
            ]
          },
          "execution_count": 61,
          "metadata": {},
          "output_type": "execute_result"
        }
      ],
      "source": [
        "arr"
      ]
    },
    {
      "cell_type": "code",
      "execution_count": null,
      "id": "b925e816",
      "metadata": {
        "id": "b925e816",
        "outputId": "4e252d45-e9f5-4a8c-cdc3-ce379f48b9e3"
      },
      "outputs": [
        {
          "data": {
            "text/plain": [
              "array(['PW', 'SKILLS'], dtype='<U6')"
            ]
          },
          "execution_count": 62,
          "metadata": {},
          "output_type": "execute_result"
        }
      ],
      "source": [
        "np.char.upper(arr)"
      ]
    },
    {
      "cell_type": "code",
      "execution_count": null,
      "id": "ee80fa5d",
      "metadata": {
        "id": "ee80fa5d",
        "outputId": "0cbfac05-74ae-4a0d-a430-52fa487915c9"
      },
      "outputs": [
        {
          "data": {
            "text/plain": [
              "array(['AJAY'], dtype='<U4')"
            ]
          },
          "execution_count": 63,
          "metadata": {},
          "output_type": "execute_result"
        }
      ],
      "source": [
        "np.char.upper(np.array([\"Ajay\"]))"
      ]
    },
    {
      "cell_type": "code",
      "execution_count": null,
      "id": "2504c713",
      "metadata": {
        "id": "2504c713",
        "outputId": "6e358801-3f05-4876-ae75-1fd43b8b78c9"
      },
      "outputs": [
        {
          "data": {
            "text/plain": [
              "array(['Pw', 'Skills'], dtype='<U6')"
            ]
          },
          "execution_count": 64,
          "metadata": {},
          "output_type": "execute_result"
        }
      ],
      "source": [
        "np.char.capitalize(arr)"
      ]
    },
    {
      "cell_type": "code",
      "execution_count": null,
      "id": "ea6e5866",
      "metadata": {
        "id": "ea6e5866",
        "outputId": "23cc6ce5-2ef4-4d6e-ccf0-4c2dcadec994"
      },
      "outputs": [
        {
          "data": {
            "text/plain": [
              "array(['Pw', 'Skills'], dtype='<U6')"
            ]
          },
          "execution_count": 65,
          "metadata": {},
          "output_type": "execute_result"
        }
      ],
      "source": [
        "np.char.title(arr)"
      ]
    },
    {
      "cell_type": "code",
      "execution_count": null,
      "id": "1cfcbadd",
      "metadata": {
        "id": "1cfcbadd",
        "outputId": "fbb2632f-169c-4cdb-a8f3-47feab99e758"
      },
      "outputs": [
        {
          "data": {
            "text/plain": [
              "array([[2, 7, 1, 6],\n",
              "       [4, 7, 4, 2],\n",
              "       [7, 9, 8, 4]])"
            ]
          },
          "execution_count": 66,
          "metadata": {},
          "output_type": "execute_result"
        }
      ],
      "source": [
        "#Mathematical function\n",
        "\n",
        "\n",
        "arr1"
      ]
    },
    {
      "cell_type": "code",
      "execution_count": null,
      "id": "da0d1342",
      "metadata": {
        "id": "da0d1342",
        "outputId": "5fbf19a4-6167-44d9-90d8-64c486193c80"
      },
      "outputs": [
        {
          "data": {
            "text/plain": [
              "array([[ 0.90929743,  0.6569866 ,  0.84147098, -0.2794155 ],\n",
              "       [-0.7568025 ,  0.6569866 , -0.7568025 ,  0.90929743],\n",
              "       [ 0.6569866 ,  0.41211849,  0.98935825, -0.7568025 ]])"
            ]
          },
          "execution_count": 67,
          "metadata": {},
          "output_type": "execute_result"
        }
      ],
      "source": [
        "np.sin(arr1)"
      ]
    },
    {
      "cell_type": "code",
      "execution_count": null,
      "id": "bda69508",
      "metadata": {
        "id": "bda69508",
        "outputId": "8e12d229-d35e-47df-d7da-acedfdf1661b"
      },
      "outputs": [
        {
          "data": {
            "text/plain": [
              "array([[-0.41614684,  0.75390225,  0.54030231,  0.96017029],\n",
              "       [-0.65364362,  0.75390225, -0.65364362, -0.41614684],\n",
              "       [ 0.75390225, -0.91113026, -0.14550003, -0.65364362]])"
            ]
          },
          "execution_count": 68,
          "metadata": {},
          "output_type": "execute_result"
        }
      ],
      "source": [
        "np.cos(arr1)"
      ]
    },
    {
      "cell_type": "code",
      "execution_count": null,
      "id": "d64bf001",
      "metadata": {
        "id": "d64bf001",
        "outputId": "8c66f10b-bb75-408b-ea6e-2145d9567f70"
      },
      "outputs": [
        {
          "data": {
            "text/plain": [
              "array([[-2.18503986,  0.87144798,  1.55740772, -0.29100619],\n",
              "       [ 1.15782128,  0.87144798,  1.15782128, -2.18503986],\n",
              "       [ 0.87144798, -0.45231566, -6.79971146,  1.15782128]])"
            ]
          },
          "execution_count": 69,
          "metadata": {},
          "output_type": "execute_result"
        }
      ],
      "source": [
        "np.tan(arr1)"
      ]
    },
    {
      "cell_type": "code",
      "execution_count": null,
      "id": "6f1d4d31",
      "metadata": {
        "id": "6f1d4d31",
        "outputId": "1fe6f985-e203-4d28-cc08-5246bd802b25"
      },
      "outputs": [
        {
          "data": {
            "text/plain": [
              "array([[0.30103   , 0.84509804, 0.        , 0.77815125],\n",
              "       [0.60205999, 0.84509804, 0.60205999, 0.30103   ],\n",
              "       [0.84509804, 0.95424251, 0.90308999, 0.60205999]])"
            ]
          },
          "execution_count": 70,
          "metadata": {},
          "output_type": "execute_result"
        }
      ],
      "source": [
        "np.log10(arr1)"
      ]
    },
    {
      "cell_type": "code",
      "execution_count": null,
      "id": "ec9c5262",
      "metadata": {
        "id": "ec9c5262",
        "outputId": "982531f5-0405-41d6-86f1-849810ec7205"
      },
      "outputs": [
        {
          "data": {
            "text/plain": [
              "array([[7.38905610e+00, 1.09663316e+03, 2.71828183e+00, 4.03428793e+02],\n",
              "       [5.45981500e+01, 1.09663316e+03, 5.45981500e+01, 7.38905610e+00],\n",
              "       [1.09663316e+03, 8.10308393e+03, 2.98095799e+03, 5.45981500e+01]])"
            ]
          },
          "execution_count": 71,
          "metadata": {},
          "output_type": "execute_result"
        }
      ],
      "source": [
        "np.exp(arr1)"
      ]
    },
    {
      "cell_type": "code",
      "execution_count": null,
      "id": "014760f6",
      "metadata": {
        "id": "014760f6",
        "outputId": "87c1fadd-4598-4ec3-ccea-5e82ac45826e"
      },
      "outputs": [
        {
          "data": {
            "text/plain": [
              "array([[  8, 343,   1, 216],\n",
              "       [ 64, 343,  64,   8],\n",
              "       [343, 729, 512,  64]], dtype=int32)"
            ]
          },
          "execution_count": 73,
          "metadata": {},
          "output_type": "execute_result"
        }
      ],
      "source": [
        "np.power(arr1, 3)"
      ]
    },
    {
      "cell_type": "code",
      "execution_count": null,
      "id": "c05438e8",
      "metadata": {
        "id": "c05438e8",
        "outputId": "64e29359-7f37-44f7-96dd-440e609cbf1d"
      },
      "outputs": [
        {
          "data": {
            "text/plain": [
              "5.083333333333333"
            ]
          },
          "execution_count": 74,
          "metadata": {},
          "output_type": "execute_result"
        }
      ],
      "source": [
        "np.mean(arr1)"
      ]
    },
    {
      "cell_type": "code",
      "execution_count": null,
      "id": "bbd84d37",
      "metadata": {
        "id": "bbd84d37",
        "outputId": "2758b209-1f55-47c6-9369-d15978cc9e31"
      },
      "outputs": [
        {
          "data": {
            "text/plain": [
              "9"
            ]
          },
          "execution_count": 75,
          "metadata": {},
          "output_type": "execute_result"
        }
      ],
      "source": [
        "np.max(arr1)"
      ]
    },
    {
      "cell_type": "code",
      "execution_count": null,
      "id": "c86aab19",
      "metadata": {
        "id": "c86aab19",
        "outputId": "d563a1f6-7cba-4b2b-8211-90b4a842913d"
      },
      "outputs": [
        {
          "data": {
            "text/plain": [
              "2.4986107250941583"
            ]
          },
          "execution_count": 76,
          "metadata": {},
          "output_type": "execute_result"
        }
      ],
      "source": [
        "np.std(arr1) # Compute the standard deviation along the specified axis."
      ]
    },
    {
      "cell_type": "code",
      "execution_count": null,
      "id": "6d11fd87",
      "metadata": {
        "id": "6d11fd87",
        "outputId": "fb987e54-cbc8-4dfa-fbfb-c8adeb417481"
      },
      "outputs": [
        {
          "data": {
            "text/plain": [
              "6.243055555555556"
            ]
          },
          "execution_count": 77,
          "metadata": {},
          "output_type": "execute_result"
        }
      ],
      "source": [
        "np.var(arr1) # Compute the variance along the specified axis."
      ]
    },
    {
      "cell_type": "code",
      "execution_count": null,
      "id": "fe1b850b",
      "metadata": {
        "id": "fe1b850b",
        "outputId": "20dbe7f2-22e1-4c71-be68-0bf71b49fb57"
      },
      "outputs": [
        {
          "data": {
            "text/plain": [
              "9"
            ]
          },
          "execution_count": 78,
          "metadata": {},
          "output_type": "execute_result"
        }
      ],
      "source": [
        "np.max(arr1)"
      ]
    },
    {
      "cell_type": "code",
      "execution_count": null,
      "id": "45baf8c0",
      "metadata": {
        "id": "45baf8c0",
        "outputId": "acf5e1e5-fab2-4252-d761-5cf03ff547b3"
      },
      "outputs": [
        {
          "data": {
            "text/plain": [
              "array([[-1, -2, -5, -1],\n",
              "       [ 2,  0,  0, -5],\n",
              "       [-2,  6,  2,  1]])"
            ]
          },
          "execution_count": 79,
          "metadata": {},
          "output_type": "execute_result"
        }
      ],
      "source": [
        "arr1 - arr2"
      ]
    },
    {
      "cell_type": "code",
      "execution_count": null,
      "id": "103ac422",
      "metadata": {
        "id": "103ac422",
        "outputId": "e97ec4cb-d968-4f30-ca97-b4eaae803d62"
      },
      "outputs": [
        {
          "data": {
            "text/plain": [
              "array([[-1, -2, -5, -1],\n",
              "       [ 2,  0,  0, -5],\n",
              "       [-2,  6,  2,  1]])"
            ]
          },
          "execution_count": 80,
          "metadata": {},
          "output_type": "execute_result"
        }
      ],
      "source": [
        "np.subtract(arr1, arr2)"
      ]
    },
    {
      "cell_type": "code",
      "execution_count": null,
      "id": "76f5ef5a",
      "metadata": {
        "id": "76f5ef5a",
        "outputId": "c59b98a6-d39b-464e-fc5a-0c9625b88c2d"
      },
      "outputs": [
        {
          "data": {
            "text/plain": [
              "array([[ 6, 63,  6, 42],\n",
              "       [ 8, 49, 16, 14],\n",
              "       [63, 27, 48, 12]])"
            ]
          },
          "execution_count": 81,
          "metadata": {},
          "output_type": "execute_result"
        }
      ],
      "source": [
        "arr1 * arr2"
      ]
    },
    {
      "cell_type": "code",
      "execution_count": null,
      "id": "0d509ced",
      "metadata": {
        "id": "0d509ced",
        "outputId": "e048d5b7-1279-4773-d171-b36662ec9cb8"
      },
      "outputs": [
        {
          "data": {
            "text/plain": [
              "array([[ 6, 63,  6, 42],\n",
              "       [ 8, 49, 16, 14],\n",
              "       [63, 27, 48, 12]])"
            ]
          },
          "execution_count": 82,
          "metadata": {},
          "output_type": "execute_result"
        }
      ],
      "source": [
        "np.multiply(arr1, arr2)"
      ]
    },
    {
      "cell_type": "code",
      "execution_count": null,
      "id": "451904b6",
      "metadata": {
        "id": "451904b6",
        "outputId": "706d830f-ea27-48a1-9b00-24f9962045e7"
      },
      "outputs": [
        {
          "data": {
            "text/plain": [
              "array([[2, 7, 1, 6],\n",
              "       [0, 0, 0, 2],\n",
              "       [7, 0, 2, 1]])"
            ]
          },
          "execution_count": 83,
          "metadata": {},
          "output_type": "execute_result"
        }
      ],
      "source": [
        "np.mod(arr1, arr2) #return element wise remainder"
      ]
    },
    {
      "cell_type": "code",
      "execution_count": null,
      "id": "062f00fa",
      "metadata": {
        "id": "062f00fa",
        "outputId": "f37378fc-b504-43ac-96e4-e84fb1cbbfab"
      },
      "outputs": [
        {
          "data": {
            "text/plain": [
              "array([[       8, 40353607,        1,   279936],\n",
              "       [      16,   823543,      256,      128],\n",
              "       [40353607,      729,   262144,       64]])"
            ]
          },
          "execution_count": 84,
          "metadata": {},
          "output_type": "execute_result"
        }
      ],
      "source": [
        "np.power(arr1, arr2)"
      ]
    },
    {
      "cell_type": "code",
      "execution_count": null,
      "id": "8cd5fc39",
      "metadata": {
        "id": "8cd5fc39",
        "outputId": "08dc009a-e070-473c-bd5b-203bfc12aa40"
      },
      "outputs": [
        {
          "data": {
            "text/plain": [
              "array([[1.41421356, 2.64575131, 1.        , 2.44948974],\n",
              "       [2.        , 2.64575131, 2.        , 1.41421356],\n",
              "       [2.64575131, 3.        , 2.82842712, 2.        ]])"
            ]
          },
          "execution_count": 85,
          "metadata": {},
          "output_type": "execute_result"
        }
      ],
      "source": [
        "np.sqrt(arr1)"
      ]
    },
    {
      "cell_type": "code",
      "execution_count": null,
      "id": "eb705371",
      "metadata": {
        "id": "eb705371"
      },
      "outputs": [],
      "source": [
        "#sort search"
      ]
    },
    {
      "cell_type": "code",
      "execution_count": null,
      "id": "5fbd6b0c",
      "metadata": {
        "id": "5fbd6b0c"
      },
      "outputs": [],
      "source": [
        "arr = np.array([5, 6, 1, 2])"
      ]
    },
    {
      "cell_type": "code",
      "execution_count": null,
      "id": "c59608de",
      "metadata": {
        "id": "c59608de",
        "outputId": "b2abb1ff-2131-4856-8f37-0d6a314242fd"
      },
      "outputs": [
        {
          "data": {
            "text/plain": [
              "array([5, 6, 1, 2])"
            ]
          },
          "execution_count": 87,
          "metadata": {},
          "output_type": "execute_result"
        }
      ],
      "source": [
        "arr"
      ]
    },
    {
      "cell_type": "code",
      "execution_count": null,
      "id": "f4b237eb",
      "metadata": {
        "id": "f4b237eb",
        "outputId": "732aceda-38c5-4528-f00e-0721693cff69"
      },
      "outputs": [
        {
          "data": {
            "text/plain": [
              "array([1, 2, 5, 6])"
            ]
          },
          "execution_count": 88,
          "metadata": {},
          "output_type": "execute_result"
        }
      ],
      "source": [
        "np.sort(arr)"
      ]
    },
    {
      "cell_type": "code",
      "execution_count": null,
      "id": "70df6478",
      "metadata": {
        "id": "70df6478"
      },
      "outputs": [],
      "source": [
        "arr = np.array([5, 6,100, 200, 1, 2, 8, 9])"
      ]
    },
    {
      "cell_type": "code",
      "execution_count": null,
      "id": "680241ba",
      "metadata": {
        "id": "680241ba"
      },
      "outputs": [],
      "source": [
        "# a = np.sort(arr)"
      ]
    },
    {
      "cell_type": "code",
      "execution_count": null,
      "id": "4df8f365",
      "metadata": {
        "id": "4df8f365",
        "outputId": "6117d2f4-c09a-49b9-c2d8-ddc3fdff4425"
      },
      "outputs": [
        {
          "data": {
            "text/plain": [
              "array([  5,   6, 100, 200,   1,   2,   8,   9])"
            ]
          },
          "execution_count": 107,
          "metadata": {},
          "output_type": "execute_result"
        }
      ],
      "source": [
        "arr"
      ]
    },
    {
      "cell_type": "code",
      "execution_count": null,
      "id": "9965b991",
      "metadata": {
        "id": "9965b991",
        "outputId": "39aa792e-2da9-4a7f-c18c-f6486cdd3ed5"
      },
      "outputs": [
        {
          "data": {
            "text/plain": [
              "array([  1,   2,   5,   6,   8,   9, 100, 200])"
            ]
          },
          "execution_count": 109,
          "metadata": {},
          "output_type": "execute_result"
        }
      ],
      "source": [
        "np.sort(arr)"
      ]
    },
    {
      "cell_type": "code",
      "execution_count": null,
      "id": "4bc8f701",
      "metadata": {
        "id": "4bc8f701",
        "outputId": "1aede443-bc0c-4c9d-9d7a-662eb8c0f427"
      },
      "outputs": [
        {
          "data": {
            "text/plain": [
              "6"
            ]
          },
          "execution_count": 110,
          "metadata": {},
          "output_type": "execute_result"
        }
      ],
      "source": [
        "np.searchsorted(arr, 3)"
      ]
    },
    {
      "cell_type": "code",
      "execution_count": null,
      "id": "e4ec2d8a",
      "metadata": {
        "id": "e4ec2d8a"
      },
      "outputs": [],
      "source": []
    },
    {
      "cell_type": "code",
      "execution_count": null,
      "id": "1bfc98c1",
      "metadata": {
        "id": "1bfc98c1",
        "outputId": "4625215d-b8b2-47b9-e5d7-d2350bb9c96e"
      },
      "outputs": [
        {
          "data": {
            "text/plain": [
              "4"
            ]
          },
          "execution_count": 89,
          "metadata": {},
          "output_type": "execute_result"
        }
      ],
      "source": [
        "np.searchsorted(arr, 3)"
      ]
    },
    {
      "cell_type": "code",
      "execution_count": null,
      "id": "2a8ac0e2",
      "metadata": {
        "id": "2a8ac0e2",
        "outputId": "ad402805-8112-4e32-c3a6-2ba944fa3c9e"
      },
      "outputs": [
        {
          "data": {
            "text/plain": [
              "4"
            ]
          },
          "execution_count": 90,
          "metadata": {},
          "output_type": "execute_result"
        }
      ],
      "source": [
        "arr1 = np.array([0, 1, 2, 3, 0, 4])\n",
        "np.count_nonzero(arr1)"
      ]
    },
    {
      "cell_type": "code",
      "execution_count": null,
      "id": "738132e3",
      "metadata": {
        "id": "738132e3",
        "outputId": "af7b64c3-a75b-48af-ee27-db925ccfe5da"
      },
      "outputs": [
        {
          "data": {
            "text/plain": [
              "array([False,  True,  True,  True, False,  True])"
            ]
          },
          "execution_count": 91,
          "metadata": {},
          "output_type": "execute_result"
        }
      ],
      "source": [
        "arr1 > 0"
      ]
    },
    {
      "cell_type": "code",
      "execution_count": null,
      "id": "944d11ba",
      "metadata": {
        "id": "944d11ba",
        "outputId": "3e92a13a-3423-4a39-a7db-b052259e4c8a"
      },
      "outputs": [
        {
          "data": {
            "text/plain": [
              "array([0, 1, 2, 3, 0, 4])"
            ]
          },
          "execution_count": 115,
          "metadata": {},
          "output_type": "execute_result"
        }
      ],
      "source": [
        "arr1"
      ]
    },
    {
      "cell_type": "code",
      "execution_count": null,
      "id": "436b998a",
      "metadata": {
        "id": "436b998a",
        "outputId": "caec54df-f404-48cf-b4f9-4edc909be602"
      },
      "outputs": [
        {
          "data": {
            "text/plain": [
              "(array([1, 2, 3, 5], dtype=int64),)"
            ]
          },
          "execution_count": 114,
          "metadata": {},
          "output_type": "execute_result"
        }
      ],
      "source": [
        "np.where(arr1 > 0) # will return index at which arr1>0"
      ]
    },
    {
      "cell_type": "code",
      "execution_count": null,
      "id": "29d6f667",
      "metadata": {
        "id": "29d6f667",
        "outputId": "e9d8062e-9dc5-4925-df8f-db8b935952f5"
      },
      "outputs": [
        {
          "data": {
            "text/plain": [
              "array([1, 2, 3, 4])"
            ]
          },
          "execution_count": 93,
          "metadata": {},
          "output_type": "execute_result"
        }
      ],
      "source": [
        "np.extract(arr1 > 0, arr1) # will return data which greater than 0"
      ]
    },
    {
      "cell_type": "code",
      "execution_count": null,
      "id": "c781f6b6",
      "metadata": {
        "id": "c781f6b6",
        "outputId": "e9500930-3f0c-4331-febe-ea76b970240e"
      },
      "outputs": [
        {
          "data": {
            "text/plain": [
              "array([       0, 16777216, 33554432, 50331648,        0, 67108864])"
            ]
          },
          "execution_count": 112,
          "metadata": {},
          "output_type": "execute_result"
        }
      ],
      "source": [
        "arr1.byteswap()"
      ]
    },
    {
      "cell_type": "code",
      "execution_count": null,
      "id": "cbb00aca",
      "metadata": {
        "id": "cbb00aca"
      },
      "outputs": [],
      "source": [
        "#matrix >> 2d array"
      ]
    },
    {
      "cell_type": "code",
      "execution_count": null,
      "id": "1e3d2a20",
      "metadata": {
        "id": "1e3d2a20"
      },
      "outputs": [],
      "source": [
        "import numpy.matlib as nm \"\"\"numpy.matlib(matrix library) is a submodule of the NumPy library that provides functions for creating matrices and matrix-related operations.\n",
        "                               It offers functionalities similar to the MATLAB programming language,\n",
        "                                particularly for matrix manipulation and linear algebra operations.\"\"\""
      ]
    },
    {
      "cell_type": "code",
      "execution_count": null,
      "id": "1ca1e50a",
      "metadata": {
        "id": "1ca1e50a",
        "outputId": "3968f70a-d961-4865-c7d9-92cef16378eb"
      },
      "outputs": [
        {
          "data": {
            "text/plain": [
              "matrix([[0., 0., 0., 0., 0.]])"
            ]
          },
          "execution_count": 117,
          "metadata": {},
          "output_type": "execute_result"
        }
      ],
      "source": [
        "nm.zeros(5)"
      ]
    },
    {
      "cell_type": "code",
      "execution_count": null,
      "id": "62f8c360",
      "metadata": {
        "id": "62f8c360",
        "outputId": "6c28c9bb-ca6e-410f-fcde-376530c3b973"
      },
      "outputs": [
        {
          "data": {
            "text/plain": [
              "matrix([[1., 1., 1., 1.],\n",
              "        [1., 1., 1., 1.],\n",
              "        [1., 1., 1., 1.]])"
            ]
          },
          "execution_count": 118,
          "metadata": {},
          "output_type": "execute_result"
        }
      ],
      "source": [
        "nm.ones((3, 4))"
      ]
    },
    {
      "cell_type": "code",
      "execution_count": null,
      "id": "5f182801",
      "metadata": {
        "id": "5f182801"
      },
      "outputs": [],
      "source": [
        "#Numpy linear algebra"
      ]
    },
    {
      "cell_type": "code",
      "execution_count": null,
      "id": "1b7f3d9d",
      "metadata": {
        "id": "1b7f3d9d",
        "outputId": "dcc6c41e-e831-43ab-c68f-7a33c98c66d5"
      },
      "outputs": [
        {
          "data": {
            "text/plain": [
              "array([0, 1, 2, 3, 0, 4])"
            ]
          },
          "execution_count": 120,
          "metadata": {},
          "output_type": "execute_result"
        }
      ],
      "source": [
        "arr1"
      ]
    },
    {
      "cell_type": "code",
      "execution_count": null,
      "id": "8199e9d3",
      "metadata": {
        "id": "8199e9d3"
      },
      "outputs": [],
      "source": [
        "arr1 = np.random.randint(1, 10, (3, 4))\n",
        "arr2 = np.random.randint(1, 10, (3, 4))"
      ]
    },
    {
      "cell_type": "code",
      "execution_count": null,
      "id": "561ac9d4",
      "metadata": {
        "id": "561ac9d4"
      },
      "outputs": [],
      "source": [
        "arr1 = np.array([[2, 3], [4, 5]])\n",
        "arr2 = np.array([[1, 3], [4, 5]])"
      ]
    },
    {
      "cell_type": "code",
      "execution_count": null,
      "id": "d7f67abd",
      "metadata": {
        "id": "d7f67abd",
        "outputId": "43b25019-fa15-4961-c449-0d31a0e04788"
      },
      "outputs": [
        {
          "data": {
            "text/plain": [
              "array([[14, 21],\n",
              "       [24, 37]])"
            ]
          },
          "execution_count": 126,
          "metadata": {},
          "output_type": "execute_result"
        }
      ],
      "source": [
        "arr1 @ arr2"
      ]
    },
    {
      "cell_type": "code",
      "execution_count": null,
      "id": "f0f82601",
      "metadata": {
        "id": "f0f82601"
      },
      "outputs": [],
      "source": [
        "a  = np.array([[7, 5.3, -3], [3, -5, 2], [5, 3, -7]])"
      ]
    },
    {
      "cell_type": "code",
      "execution_count": null,
      "id": "1c1363bf",
      "metadata": {
        "id": "1c1363bf",
        "outputId": "1cbe9de4-faf0-49bc-b1a3-d90e48474d5f"
      },
      "outputs": [
        {
          "data": {
            "text/plain": [
              "array([[ 7. ,  5.3, -3. ],\n",
              "       [ 3. , -5. ,  2. ],\n",
              "       [ 5. ,  3. , -7. ]])"
            ]
          },
          "execution_count": 133,
          "metadata": {},
          "output_type": "execute_result"
        }
      ],
      "source": [
        "a"
      ]
    },
    {
      "cell_type": "code",
      "execution_count": null,
      "id": "ebb5f66f",
      "metadata": {
        "id": "ebb5f66f"
      },
      "outputs": [],
      "source": [
        "b = np.array([16, -8, 0])"
      ]
    },
    {
      "cell_type": "code",
      "execution_count": null,
      "id": "6b3720c5",
      "metadata": {
        "id": "6b3720c5",
        "outputId": "3657af23-ab44-4643-a759-ea2cabaae951"
      },
      "outputs": [
        {
          "data": {
            "text/plain": [
              "array([16, -8,  0])"
            ]
          },
          "execution_count": 135,
          "metadata": {},
          "output_type": "execute_result"
        }
      ],
      "source": [
        "b"
      ]
    },
    {
      "cell_type": "code",
      "execution_count": null,
      "id": "2f850c99",
      "metadata": {
        "id": "2f850c99",
        "outputId": "e9458402-3028-424a-b00d-e273da8b56ae"
      },
      "outputs": [
        {
          "data": {
            "text/plain": [
              "array([0.90162081, 2.89483603, 1.88465888])"
            ]
          },
          "execution_count": 136,
          "metadata": {},
          "output_type": "execute_result"
        }
      ],
      "source": [
        "np.linalg.solve(a, b) # solving linear algebric equations to find value of x y and z"
      ]
    },
    {
      "cell_type": "code",
      "execution_count": null,
      "id": "4e45f82d",
      "metadata": {
        "id": "4e45f82d",
        "outputId": "6d16b0d9-7254-43a6-ca37-daa508fa12f9"
      },
      "outputs": [
        {
          "data": {
            "text/plain": [
              "array([[2, 3],\n",
              "       [4, 5]])"
            ]
          },
          "execution_count": 137,
          "metadata": {},
          "output_type": "execute_result"
        }
      ],
      "source": [
        "arr1"
      ]
    },
    {
      "cell_type": "code",
      "execution_count": null,
      "id": "b25dbbc8",
      "metadata": {
        "id": "b25dbbc8",
        "outputId": "45161098-60de-4c27-e484-9239ec48f14e"
      },
      "outputs": [
        {
          "data": {
            "text/plain": [
              "-2"
            ]
          },
          "execution_count": 138,
          "metadata": {},
          "output_type": "execute_result"
        }
      ],
      "source": [
        "5*2 - 3*4"
      ]
    },
    {
      "cell_type": "code",
      "execution_count": null,
      "id": "f81df562",
      "metadata": {
        "id": "f81df562",
        "outputId": "4990ba9e-4c00-4b26-d995-aa375c022467"
      },
      "outputs": [
        {
          "data": {
            "text/plain": [
              "-2.0"
            ]
          },
          "execution_count": 139,
          "metadata": {},
          "output_type": "execute_result"
        }
      ],
      "source": [
        "np.linalg.det(arr1) # determinant of an array"
      ]
    },
    {
      "cell_type": "code",
      "execution_count": null,
      "id": "0a874cf4",
      "metadata": {
        "id": "0a874cf4",
        "outputId": "f81c2a06-e611-47bd-920c-62d8d954d12c"
      },
      "outputs": [
        {
          "data": {
            "text/plain": [
              "array([[-2.5,  1.5],\n",
              "       [ 2. , -1. ]])"
            ]
          },
          "execution_count": 140,
          "metadata": {},
          "output_type": "execute_result"
        }
      ],
      "source": [
        "np.linalg.inv(arr1) # inverse of an array (Formula: A*A^-1 = I) where A^-1 = A/ determinant of A"
      ]
    },
    {
      "cell_type": "code",
      "execution_count": null,
      "id": "b57b7362",
      "metadata": {
        "id": "b57b7362"
      },
      "outputs": [],
      "source": []
    }
  ],
  "metadata": {
    "kernelspec": {
      "display_name": "Python 3 (ipykernel)",
      "language": "python",
      "name": "python3"
    },
    "language_info": {
      "codemirror_mode": {
        "name": "ipython",
        "version": 3
      },
      "file_extension": ".py",
      "mimetype": "text/x-python",
      "name": "python",
      "nbconvert_exporter": "python",
      "pygments_lexer": "ipython3",
      "version": "3.11.4"
    },
    "colab": {
      "provenance": []
    }
  },
  "nbformat": 4,
  "nbformat_minor": 5
}