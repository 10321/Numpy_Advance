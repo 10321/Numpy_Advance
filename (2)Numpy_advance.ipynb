{
  "cells": [
    {
      "cell_type": "code",
      "execution_count": 8,
      "id": "6d2c5c80",
      "metadata": {
        "id": "6d2c5c80"
      },
      "outputs": [],
      "source": [
        "import numpy as np\n",
        "arr = np.ones((3, 4))"
      ]
    },
    {
      "cell_type": "code",
      "execution_count": null,
      "id": "0cf245ff",
      "metadata": {
        "id": "0cf245ff"
      },
      "outputs": [],
      "source": [
        "arr"
      ]
    },
    {
      "cell_type": "code",
      "execution_count": null,
      "id": "3e3453da",
      "metadata": {
        "id": "3e3453da"
      },
      "outputs": [],
      "source": [
        "arr + 5"
      ]
    },
    {
      "cell_type": "code",
      "execution_count": null,
      "id": "d8ee1828",
      "metadata": {
        "id": "d8ee1828"
      },
      "outputs": [],
      "source": [
        "arr*5"
      ]
    },
    {
      "cell_type": "code",
      "execution_count": null,
      "id": "780a18b9",
      "metadata": {
        "id": "780a18b9"
      },
      "outputs": [],
      "source": [
        "np.empty((3, 4)) # generates very random values"
      ]
    },
    {
      "cell_type": "code",
      "execution_count": null,
      "id": "5276a22f",
      "metadata": {
        "id": "5276a22f"
      },
      "outputs": [],
      "source": [
        "np.eye(3, dtype = int) #n*n matrix #tO calculate inverse of matroix"
      ]
    },
    {
      "cell_type": "code",
      "source": [
        "np.eye(3) # always returns a square matrix, here it will be of 3x3"
      ],
      "metadata": {
        "id": "HK5sR7LbSgcL"
      },
      "id": "HK5sR7LbSgcL",
      "execution_count": null,
      "outputs": []
    },
    {
      "cell_type": "code",
      "execution_count": null,
      "id": "fa09cc61",
      "metadata": {
        "id": "fa09cc61"
      },
      "outputs": [],
      "source": [
        "arr"
      ]
    },
    {
      "cell_type": "code",
      "execution_count": null,
      "id": "cf144ec0",
      "metadata": {
        "id": "cf144ec0"
      },
      "outputs": [],
      "source": [
        "#optional\n",
        "\n",
        "import pandas as pd\n",
        "pd.DataFrame(arr)"
      ]
    },
    {
      "cell_type": "code",
      "execution_count": null,
      "id": "09bf2be2",
      "metadata": {
        "id": "09bf2be2"
      },
      "outputs": [],
      "source": [
        "#extra topics\n",
        "import random\n",
        "random.choice((1, 2, 3, 4, 5, 6))\n",
        "\n",
        "random.choice('Ajay')\n",
        "random.randrange(1, 10) #Choose a random item from range(start, stop[, step])\n",
        "random.random() # a random no is generated between o (included), 1 will be excluded\n",
        "\n",
        "lis = [1, 2, 3, 4, 5]\n",
        "random.shuffle(lis)\n",
        "\n",
        "random.uniform(7, 14) # Get a random number in the range [a, b) or [a, b] depending on rounding"
      ]
    },
    {
      "cell_type": "code",
      "execution_count": null,
      "id": "8c35d578",
      "metadata": {
        "id": "8c35d578"
      },
      "outputs": [],
      "source": [
        "np.array([])"
      ]
    },
    {
      "cell_type": "code",
      "execution_count": null,
      "id": "1112871e",
      "metadata": {
        "id": "1112871e"
      },
      "outputs": [],
      "source": [
        "np.random.random_sample() #Return random floats in the half-open interval [0.0, 1.0)"
      ]
    },
    {
      "cell_type": "code",
      "execution_count": null,
      "id": "cc3c3603",
      "metadata": {
        "id": "cc3c3603"
      },
      "outputs": [],
      "source": [
        "type(np.random.random_sample())"
      ]
    },
    {
      "cell_type": "code",
      "execution_count": null,
      "id": "6515618a",
      "metadata": {
        "id": "6515618a"
      },
      "outputs": [],
      "source": [
        "np.random.random_sample((5,)) #Return random floats in the half-open interval [0.0, 1.0)."
      ]
    },
    {
      "cell_type": "code",
      "execution_count": null,
      "id": "f016851d",
      "metadata": {
        "id": "f016851d"
      },
      "outputs": [],
      "source": [
        "np.random.rand(1) # rand(d0, d1, ..., dn) -->Random values in a given shape."
      ]
    },
    {
      "cell_type": "code",
      "execution_count": null,
      "id": "b406c5cf",
      "metadata": {
        "id": "b406c5cf"
      },
      "outputs": [],
      "source": [
        "np.random.rand(2, 3)"
      ]
    },
    {
      "cell_type": "code",
      "execution_count": null,
      "id": "cf700afb",
      "metadata": {
        "id": "cf700afb"
      },
      "outputs": [],
      "source": [
        "np.random.randn(2, 3) # randn(d0, d1, ..., dn)-->Return a sample (or samples) from the \"standard normal\" distribution"
      ]
    },
    {
      "cell_type": "code",
      "execution_count": null,
      "id": "d299b157",
      "metadata": {
        "id": "d299b157"
      },
      "outputs": [],
      "source": [
        "np.random.random_sample() #random_sample(size=None)-->Return random floats in the half-open interval [0.0, 1.0)."
      ]
    },
    {
      "cell_type": "code",
      "execution_count": null,
      "id": "c3c0f7ec",
      "metadata": {
        "id": "c3c0f7ec"
      },
      "outputs": [],
      "source": [
        "np.random.randint(1, 5, size = (3, 4))"
      ]
    },
    {
      "cell_type": "code",
      "execution_count": null,
      "id": "630208a5",
      "metadata": {
        "id": "630208a5"
      },
      "outputs": [],
      "source": [
        "arr = np.random.randint(1, 5, size = (3, 4))"
      ]
    },
    {
      "cell_type": "code",
      "execution_count": null,
      "id": "90051fcc",
      "metadata": {
        "id": "90051fcc"
      },
      "outputs": [],
      "source": [
        "arr"
      ]
    },
    {
      "cell_type": "code",
      "execution_count": null,
      "id": "304d2c66",
      "metadata": {
        "id": "304d2c66"
      },
      "outputs": [],
      "source": [
        "arr.size"
      ]
    },
    {
      "cell_type": "code",
      "execution_count": null,
      "id": "0a04274b",
      "metadata": {
        "id": "0a04274b"
      },
      "outputs": [],
      "source": [
        "arr.shape"
      ]
    },
    {
      "cell_type": "code",
      "execution_count": null,
      "id": "69d6405a",
      "metadata": {
        "id": "69d6405a"
      },
      "outputs": [],
      "source": [
        "arr.ndim"
      ]
    },
    {
      "cell_type": "code",
      "execution_count": null,
      "id": "c0267eb1",
      "metadata": {
        "id": "c0267eb1"
      },
      "outputs": [],
      "source": [
        "arr"
      ]
    },
    {
      "cell_type": "code",
      "execution_count": null,
      "id": "cc0a7eef",
      "metadata": {
        "id": "cc0a7eef"
      },
      "outputs": [],
      "source": [
        "arr.reshape(2, 6) #array size can not change, multiples of array size"
      ]
    },
    {
      "cell_type": "code",
      "execution_count": null,
      "id": "4111d896",
      "metadata": {
        "id": "4111d896"
      },
      "outputs": [],
      "source": [
        "arr.reshape(6, 2)"
      ]
    },
    {
      "cell_type": "code",
      "execution_count": null,
      "id": "7d982323",
      "metadata": {
        "id": "7d982323"
      },
      "outputs": [],
      "source": [
        "arr.reshape(12,)"
      ]
    },
    {
      "cell_type": "code",
      "execution_count": null,
      "id": "e2a4ab22",
      "metadata": {
        "id": "e2a4ab22"
      },
      "outputs": [],
      "source": [
        "arr.reshape(12, 1)"
      ]
    },
    {
      "cell_type": "code",
      "execution_count": null,
      "id": "dd8a93d2",
      "metadata": {
        "id": "dd8a93d2"
      },
      "outputs": [],
      "source": [
        "arr.reshape(12,2)"
      ]
    },
    {
      "cell_type": "code",
      "execution_count": null,
      "id": "d27d2db9",
      "metadata": {
        "id": "d27d2db9"
      },
      "outputs": [],
      "source": [
        "arr.reshape(4, 3)"
      ]
    },
    {
      "cell_type": "code",
      "execution_count": null,
      "id": "88985273",
      "metadata": {
        "id": "88985273"
      },
      "outputs": [],
      "source": [
        "arr.reshape(3,4)"
      ]
    },
    {
      "cell_type": "code",
      "execution_count": null,
      "id": "b1b1e75c",
      "metadata": {
        "id": "b1b1e75c"
      },
      "outputs": [],
      "source": [
        "arr"
      ]
    },
    {
      "cell_type": "code",
      "execution_count": null,
      "id": "9b4a7848",
      "metadata": {
        "id": "9b4a7848"
      },
      "outputs": [],
      "source": [
        "arr.reshape(4, -1) # If you're reshaping an array and you only know the number of rows to put, then put -1 in column. numpy will automatically takecare of it and vice versa"
      ]
    },
    {
      "cell_type": "code",
      "execution_count": null,
      "id": "e906e39e",
      "metadata": {
        "id": "e906e39e"
      },
      "outputs": [],
      "source": [
        "arr.reshape(4, -100)"
      ]
    },
    {
      "cell_type": "code",
      "execution_count": null,
      "id": "2bff1250",
      "metadata": {
        "id": "2bff1250"
      },
      "outputs": [],
      "source": [
        "arr.reshape(3, -100)"
      ]
    },
    {
      "cell_type": "code",
      "execution_count": null,
      "id": "a068091e",
      "metadata": {
        "id": "a068091e"
      },
      "outputs": [],
      "source": [
        "arr.reshape(-1, 4) # same here put the number of column uk, and -1 in rows. numpy will automatically decides the number of rows"
      ]
    },
    {
      "cell_type": "code",
      "execution_count": null,
      "id": "5ff5cb0a",
      "metadata": {
        "id": "5ff5cb0a"
      },
      "outputs": [],
      "source": [
        "arr"
      ]
    },
    {
      "cell_type": "code",
      "execution_count": null,
      "id": "6c443454",
      "metadata": {
        "id": "6c443454"
      },
      "outputs": [],
      "source": [
        "arr.reshape(12, ).base # .reshape is doing shawllow copy, hence .base will return the original array(hence it is pointing to the same memory)"
      ]
    },
    {
      "cell_type": "code",
      "execution_count": null,
      "id": "4f705183",
      "metadata": {
        "id": "4f705183"
      },
      "outputs": [],
      "source": [
        "arr"
      ]
    },
    {
      "cell_type": "code",
      "execution_count": null,
      "id": "0774e249",
      "metadata": {
        "id": "0774e249"
      },
      "outputs": [],
      "source": [
        "arr.size"
      ]
    },
    {
      "cell_type": "code",
      "execution_count": null,
      "id": "d8f1159c",
      "metadata": {
        "id": "d8f1159c"
      },
      "outputs": [],
      "source": [
        "arr.reshape(2, 2, 3) # will generate 2 sets of 2x3 array, in-some it'll be an 3-d array"
      ]
    },
    {
      "cell_type": "code",
      "execution_count": null,
      "id": "c91113ad",
      "metadata": {
        "id": "c91113ad"
      },
      "outputs": [],
      "source": [
        "arr.reshape(1, 2, 2, 3) # will generate 4-d array of 2x3 dimentions"
      ]
    },
    {
      "cell_type": "code",
      "execution_count": null,
      "id": "a561838c",
      "metadata": {
        "id": "a561838c"
      },
      "outputs": [],
      "source": [
        "arr.reshape(4, 3, 1) # will create a 4-d array of 3x1 dimention"
      ]
    },
    {
      "cell_type": "code",
      "execution_count": null,
      "id": "a1b34382",
      "metadata": {
        "id": "a1b34382"
      },
      "outputs": [],
      "source": [
        "arr.reshape(1, 1, 1, 1, 1, 1, 1, 1, 1, 2, 2, 3)"
      ]
    },
    {
      "cell_type": "code",
      "execution_count": null,
      "id": "ca5d4613",
      "metadata": {
        "id": "ca5d4613"
      },
      "outputs": [],
      "source": [
        "lis = [1, 2, 3, 4]\n",
        "arr = np.array(lis)"
      ]
    },
    {
      "cell_type": "code",
      "execution_count": null,
      "id": "c11b423b",
      "metadata": {
        "id": "c11b423b"
      },
      "outputs": [],
      "source": [
        "arr"
      ]
    },
    {
      "cell_type": "code",
      "execution_count": null,
      "id": "2264e026",
      "metadata": {
        "id": "2264e026"
      },
      "outputs": [],
      "source": [
        "arr.ndim"
      ]
    },
    {
      "cell_type": "code",
      "execution_count": null,
      "id": "ae1b54a7",
      "metadata": {
        "id": "ae1b54a7"
      },
      "outputs": [],
      "source": [
        "arr2 = np.array([[2, 3], [4, 5]])\n",
        "arr2"
      ]
    },
    {
      "cell_type": "code",
      "execution_count": null,
      "id": "8399c0c7",
      "metadata": {
        "id": "8399c0c7"
      },
      "outputs": [],
      "source": [
        "arr2.ndim"
      ]
    },
    {
      "cell_type": "code",
      "execution_count": null,
      "id": "3f743f0d",
      "metadata": {
        "id": "3f743f0d"
      },
      "outputs": [],
      "source": [
        "arr2 = np.zeros((3, 4))\n",
        "arr2"
      ]
    },
    {
      "cell_type": "code",
      "execution_count": null,
      "id": "dbfe0fe6",
      "metadata": {
        "id": "dbfe0fe6"
      },
      "outputs": [],
      "source": [
        "arr2.ndim"
      ]
    },
    {
      "cell_type": "code",
      "execution_count": null,
      "id": "f98f0ec1",
      "metadata": {
        "id": "f98f0ec1"
      },
      "outputs": [],
      "source": [
        "arr3 = np.zeros((1, 3, 4)) # 3 rows, 4 columns >> 2d array + 1d\n",
        "arr3"
      ]
    },
    {
      "cell_type": "code",
      "execution_count": null,
      "id": "23160134",
      "metadata": {
        "id": "23160134"
      },
      "outputs": [],
      "source": [
        "arr3.ndim"
      ]
    },
    {
      "cell_type": "code",
      "execution_count": null,
      "id": "07f9c9ca",
      "metadata": {
        "id": "07f9c9ca"
      },
      "outputs": [],
      "source": [
        "arr3.shape"
      ]
    },
    {
      "cell_type": "code",
      "execution_count": null,
      "id": "288b7fab",
      "metadata": {
        "id": "288b7fab"
      },
      "outputs": [],
      "source": [
        "arr4 = np.zeros((1, 1, 3, 4)) # 3 rows, 4 columns >> 2d array + 1d +1d\n",
        "arr4"
      ]
    },
    {
      "cell_type": "code",
      "execution_count": null,
      "id": "108874e3",
      "metadata": {
        "id": "108874e3"
      },
      "outputs": [],
      "source": [
        "arr4.ndim"
      ]
    },
    {
      "cell_type": "code",
      "execution_count": null,
      "id": "4908b59b",
      "metadata": {
        "id": "4908b59b"
      },
      "outputs": [],
      "source": [
        "arr4.shape"
      ]
    },
    {
      "cell_type": "code",
      "execution_count": null,
      "id": "239ee299",
      "metadata": {
        "id": "239ee299"
      },
      "outputs": [],
      "source": [
        "arr3 = np.zeros((3, 3, 4))\n",
        "arr3"
      ]
    },
    {
      "cell_type": "code",
      "execution_count": null,
      "id": "f0858ac2",
      "metadata": {
        "id": "f0858ac2"
      },
      "outputs": [],
      "source": [
        "arr3.ndim"
      ]
    },
    {
      "cell_type": "code",
      "execution_count": null,
      "id": "7789f2cc",
      "metadata": {
        "id": "7789f2cc"
      },
      "outputs": [],
      "source": [
        "arr3.shape"
      ]
    },
    {
      "cell_type": "code",
      "execution_count": 9,
      "id": "bd85dfdc",
      "metadata": {
        "id": "bd85dfdc"
      },
      "outputs": [],
      "source": [
        "arr1 = np.random.randint(1, 10, (5, 6)) # randint(low, high=None, size=None, dtype=int)-->Return random integers from `low` (inclusive) to `high` (exclusive)."
      ]
    },
    {
      "cell_type": "code",
      "execution_count": 10,
      "id": "c6cb842b",
      "metadata": {
        "id": "c6cb842b",
        "outputId": "855a5b56-947d-4b22-b149-4f99016a0a75",
        "colab": {
          "base_uri": "https://localhost:8080/"
        }
      },
      "outputs": [
        {
          "output_type": "execute_result",
          "data": {
            "text/plain": [
              "array([[1, 9, 8, 4, 2, 8],\n",
              "       [2, 8, 8, 3, 5, 5],\n",
              "       [9, 2, 8, 7, 5, 6],\n",
              "       [2, 1, 5, 6, 7, 5],\n",
              "       [4, 6, 5, 4, 3, 7]])"
            ]
          },
          "metadata": {},
          "execution_count": 10
        }
      ],
      "source": [
        "arr1"
      ]
    },
    {
      "cell_type": "code",
      "execution_count": 13,
      "id": "d7604706",
      "metadata": {
        "id": "d7604706",
        "outputId": "96853420-b68e-4aa2-d963-d18cbf548846",
        "colab": {
          "base_uri": "https://localhost:8080/"
        }
      },
      "outputs": [
        {
          "output_type": "execute_result",
          "data": {
            "text/plain": [
              "array([[False,  True,  True, False, False,  True],\n",
              "       [False,  True,  True, False, False, False],\n",
              "       [ True, False,  True,  True, False,  True],\n",
              "       [False, False, False,  True,  True, False],\n",
              "       [False,  True, False, False, False,  True]])"
            ]
          },
          "metadata": {},
          "execution_count": 13
        }
      ],
      "source": [
        "arr1 > 5 # will be true wherever the digit is greater than 5, or else it will be false"
      ]
    },
    {
      "cell_type": "code",
      "execution_count": 14,
      "id": "3ef7c073",
      "metadata": {
        "id": "3ef7c073",
        "outputId": "e12f7311-f0a6-47e1-a423-c3adce72d8a3",
        "colab": {
          "base_uri": "https://localhost:8080/"
        }
      },
      "outputs": [
        {
          "output_type": "execute_result",
          "data": {
            "text/plain": [
              "array([9, 8, 8, 8, 8, 9, 8, 7, 6, 6, 7, 6, 7])"
            ]
          },
          "metadata": {},
          "execution_count": 14
        }
      ],
      "source": [
        "arr1[arr1 > 5] # will return the values greater than 5."
      ]
    },
    {
      "cell_type": "code",
      "execution_count": null,
      "id": "1d34ad7c",
      "metadata": {
        "id": "1d34ad7c"
      },
      "outputs": [],
      "source": [
        "arr1[arr1 < 5]"
      ]
    },
    {
      "cell_type": "code",
      "execution_count": null,
      "id": "73ed1e20",
      "metadata": {
        "id": "73ed1e20"
      },
      "outputs": [],
      "source": [
        "arr1"
      ]
    },
    {
      "cell_type": "code",
      "execution_count": null,
      "id": "a2564283",
      "metadata": {
        "id": "a2564283"
      },
      "outputs": [],
      "source": [
        "arr"
      ]
    },
    {
      "cell_type": "code",
      "execution_count": null,
      "id": "5adb3a1f",
      "metadata": {
        "id": "5adb3a1f"
      },
      "outputs": [],
      "source": [
        "arr[0]"
      ]
    },
    {
      "cell_type": "code",
      "execution_count": null,
      "id": "5da9d061",
      "metadata": {
        "id": "5da9d061"
      },
      "outputs": [],
      "source": [
        "arr[0]"
      ]
    },
    {
      "cell_type": "code",
      "execution_count": 12,
      "id": "427f6fa8",
      "metadata": {
        "id": "427f6fa8",
        "outputId": "6d4c295d-399e-4415-8ea3-23216f5a764d",
        "colab": {
          "base_uri": "https://localhost:8080/"
        }
      },
      "outputs": [
        {
          "output_type": "execute_result",
          "data": {
            "text/plain": [
              "array([[1, 9, 8, 4, 2, 8],\n",
              "       [2, 8, 8, 3, 5, 5],\n",
              "       [9, 2, 8, 7, 5, 6],\n",
              "       [2, 1, 5, 6, 7, 5],\n",
              "       [4, 6, 5, 4, 3, 7]])"
            ]
          },
          "metadata": {},
          "execution_count": 12
        }
      ],
      "source": [
        "arr1"
      ]
    },
    {
      "cell_type": "code",
      "source": [
        "arr1[0, [1,3]] # from 0th row return element of index 1,3, use comma to select a sepecific element of a specific column and row"
      ],
      "metadata": {
        "colab": {
          "base_uri": "https://localhost:8080/"
        },
        "id": "0JFXz7qdM3JX",
        "outputId": "53b9e251-4c54-435d-e3c9-282c804c9e13"
      },
      "id": "0JFXz7qdM3JX",
      "execution_count": 11,
      "outputs": [
        {
          "output_type": "execute_result",
          "data": {
            "text/plain": [
              "array([9, 4])"
            ]
          },
          "metadata": {},
          "execution_count": 11
        }
      ]
    },
    {
      "cell_type": "code",
      "source": [
        "arr1[2:4, [2,3]] # will return elements from 2nd to 4rth row(exclusive 4rth row), 2nd element column and 3rd element column(inclusive 3rd element in 3rd column)"
      ],
      "metadata": {
        "colab": {
          "base_uri": "https://localhost:8080/"
        },
        "id": "hjuxKFMxPOIl",
        "outputId": "9ef10888-6812-49fa-86f8-b30600ac4747"
      },
      "id": "hjuxKFMxPOIl",
      "execution_count": 16,
      "outputs": [
        {
          "output_type": "execute_result",
          "data": {
            "text/plain": [
              "array([[8, 7],\n",
              "       [5, 6]])"
            ]
          },
          "metadata": {},
          "execution_count": 16
        }
      ]
    },
    {
      "cell_type": "code",
      "execution_count": 17,
      "id": "c155e215",
      "metadata": {
        "id": "c155e215",
        "outputId": "6ef2f97d-593e-455c-d858-071c8110d72e",
        "colab": {
          "base_uri": "https://localhost:8080/"
        }
      },
      "outputs": [
        {
          "output_type": "execute_result",
          "data": {
            "text/plain": [
              "array([[1, 8],\n",
              "       [2, 8]])"
            ]
          },
          "metadata": {},
          "execution_count": 17
        }
      ],
      "source": [
        "arr1[0:2, [0,2]] #0th - 1st row in continuation and 0th and 2nd column"
      ]
    },
    {
      "cell_type": "code",
      "execution_count": null,
      "id": "6a55275e",
      "metadata": {
        "id": "6a55275e"
      },
      "outputs": [],
      "source": [
        "#slicing on both rows and column\n",
        "arr1[0:2, 1:3] # 2nd row and 3rd column will be exclusive"
      ]
    },
    {
      "cell_type": "code",
      "execution_count": null,
      "id": "fae3b9a8",
      "metadata": {
        "id": "fae3b9a8"
      },
      "outputs": [],
      "source": [
        "arr1[0:2, [0, 1]]"
      ]
    },
    {
      "cell_type": "code",
      "execution_count": null,
      "id": "ee573a81",
      "metadata": {
        "id": "ee573a81"
      },
      "outputs": [],
      "source": [
        "arr"
      ]
    },
    {
      "cell_type": "code",
      "execution_count": null,
      "id": "397dc291",
      "metadata": {
        "id": "397dc291"
      },
      "outputs": [],
      "source": [
        "arr1[0, [1,3]]"
      ]
    },
    {
      "cell_type": "code",
      "execution_count": null,
      "id": "6c42bcde",
      "metadata": {
        "id": "6c42bcde"
      },
      "outputs": [],
      "source": [
        "arr1[2:4, [0, 2]]"
      ]
    },
    {
      "cell_type": "code",
      "execution_count": null,
      "id": "df6ece94",
      "metadata": {
        "id": "df6ece94"
      },
      "outputs": [],
      "source": [
        "arr1"
      ]
    },
    {
      "cell_type": "code",
      "execution_count": 19,
      "id": "ab3e293d",
      "metadata": {
        "id": "ab3e293d",
        "outputId": "da199127-af5d-4232-edd9-6e360a12fe93",
        "colab": {
          "base_uri": "https://localhost:8080/"
        }
      },
      "outputs": [
        {
          "output_type": "execute_result",
          "data": {
            "text/plain": [
              "array([[9, 2, 8, 7, 5, 6],\n",
              "       [2, 1, 5, 6, 7, 5],\n",
              "       [4, 6, 5, 4, 3, 7]])"
            ]
          },
          "metadata": {},
          "execution_count": 19
        }
      ],
      "source": [
        "arr1[2:5] # slicing"
      ]
    },
    {
      "cell_type": "code",
      "execution_count": null,
      "id": "5b0571f2",
      "metadata": {
        "id": "5b0571f2"
      },
      "outputs": [],
      "source": [
        "arr1[2:5, 0:2] #slicing"
      ]
    },
    {
      "cell_type": "code",
      "execution_count": null,
      "id": "bd8c1e41",
      "metadata": {
        "id": "bd8c1e41"
      },
      "outputs": [],
      "source": [
        "arr1[2:5, [0, 2]]"
      ]
    },
    {
      "cell_type": "code",
      "execution_count": 18,
      "id": "fc7dfcac",
      "metadata": {
        "id": "fc7dfcac",
        "outputId": "06422c20-6afb-40d1-8b43-be85877f009c",
        "colab": {
          "base_uri": "https://localhost:8080/"
        }
      },
      "outputs": [
        {
          "output_type": "execute_result",
          "data": {
            "text/plain": [
              "array([[9, 2, 8, 7, 5, 6],\n",
              "       [4, 6, 5, 4, 3, 7]])"
            ]
          },
          "metadata": {},
          "execution_count": 18
        }
      ],
      "source": [
        "arr1[[2,4]] #selecting specific column"
      ]
    },
    {
      "cell_type": "code",
      "execution_count": 20,
      "id": "64b48050",
      "metadata": {
        "id": "64b48050",
        "outputId": "2b20f7ca-9db5-4524-aa8a-8c2faa0bb4d6",
        "colab": {
          "base_uri": "https://localhost:8080/"
        }
      },
      "outputs": [
        {
          "output_type": "execute_result",
          "data": {
            "text/plain": [
              "array([[1, 9, 8, 4, 2, 8],\n",
              "       [2, 8, 8, 3, 5, 5],\n",
              "       [9, 2, 8, 7, 5, 6],\n",
              "       [2, 1, 5, 6, 7, 5],\n",
              "       [4, 6, 5, 4, 3, 7]])"
            ]
          },
          "metadata": {},
          "execution_count": 20
        }
      ],
      "source": [
        "arr1"
      ]
    },
    {
      "cell_type": "code",
      "execution_count": null,
      "id": "dd6ab048",
      "metadata": {
        "id": "dd6ab048"
      },
      "outputs": [],
      "source": [
        "arr1"
      ]
    },
    {
      "cell_type": "code",
      "execution_count": null,
      "id": "d0b255b1",
      "metadata": {
        "id": "d0b255b1"
      },
      "outputs": [],
      "source": [
        "arr1[[2, 4]] #selecting specific column"
      ]
    },
    {
      "cell_type": "code",
      "execution_count": null,
      "id": "da01af1e",
      "metadata": {
        "id": "da01af1e"
      },
      "outputs": [],
      "source": [
        "arr1[2 : 4] #slicing"
      ]
    },
    {
      "cell_type": "code",
      "execution_count": null,
      "id": "b7176e43",
      "metadata": {
        "id": "b7176e43"
      },
      "outputs": [],
      "source": [
        "arr1"
      ]
    },
    {
      "cell_type": "code",
      "execution_count": null,
      "id": "623d223c",
      "metadata": {
        "id": "623d223c"
      },
      "outputs": [],
      "source": [
        "arr1[2:4, [1, 3]]"
      ]
    },
    {
      "cell_type": "code",
      "execution_count": 22,
      "id": "15556875",
      "metadata": {
        "id": "15556875"
      },
      "outputs": [],
      "source": [
        "arr1 = np.random.randint(1, 3, (3,3))\n",
        "arr2 = np.random.randint(1, 3, (3,3))"
      ]
    },
    {
      "cell_type": "code",
      "execution_count": 23,
      "id": "3843c982",
      "metadata": {
        "id": "3843c982",
        "outputId": "b7b7d087-c935-4d9d-91ba-cfc34012d054",
        "colab": {
          "base_uri": "https://localhost:8080/"
        }
      },
      "outputs": [
        {
          "output_type": "execute_result",
          "data": {
            "text/plain": [
              "array([[2, 2, 2],\n",
              "       [2, 2, 2],\n",
              "       [1, 1, 1]])"
            ]
          },
          "metadata": {},
          "execution_count": 23
        }
      ],
      "source": [
        "arr1"
      ]
    },
    {
      "cell_type": "markdown",
      "id": "5078fe84",
      "metadata": {
        "id": "5078fe84"
      },
      "source": [
        "##"
      ]
    },
    {
      "cell_type": "code",
      "execution_count": 24,
      "id": "41c381ed",
      "metadata": {
        "id": "41c381ed",
        "outputId": "29a0b285-0510-4af0-fba1-397611451411",
        "colab": {
          "base_uri": "https://localhost:8080/"
        }
      },
      "outputs": [
        {
          "output_type": "execute_result",
          "data": {
            "text/plain": [
              "array([[1, 1, 2],\n",
              "       [2, 2, 1],\n",
              "       [1, 2, 1]])"
            ]
          },
          "metadata": {},
          "execution_count": 24
        }
      ],
      "source": [
        "arr2"
      ]
    },
    {
      "cell_type": "code",
      "execution_count": 25,
      "id": "10b0c059",
      "metadata": {
        "id": "10b0c059",
        "outputId": "06ecedf8-6fa2-42bc-ba24-41398084135d",
        "colab": {
          "base_uri": "https://localhost:8080/"
        }
      },
      "outputs": [
        {
          "output_type": "execute_result",
          "data": {
            "text/plain": [
              "array([[3, 3, 4],\n",
              "       [4, 4, 3],\n",
              "       [2, 3, 2]])"
            ]
          },
          "metadata": {},
          "execution_count": 25
        }
      ],
      "source": [
        "arr1 + arr2"
      ]
    },
    {
      "cell_type": "code",
      "execution_count": 26,
      "id": "2378ec63",
      "metadata": {
        "id": "2378ec63",
        "outputId": "8491701f-ab99-4048-c0ef-977c7bfe7b4e",
        "colab": {
          "base_uri": "https://localhost:8080/"
        }
      },
      "outputs": [
        {
          "output_type": "execute_result",
          "data": {
            "text/plain": [
              "array([[ 1,  1,  0],\n",
              "       [ 0,  0,  1],\n",
              "       [ 0, -1,  0]])"
            ]
          },
          "metadata": {},
          "execution_count": 26
        }
      ],
      "source": [
        "arr1 - arr2"
      ]
    },
    {
      "cell_type": "code",
      "execution_count": 27,
      "id": "e47ef821",
      "metadata": {
        "id": "e47ef821",
        "outputId": "cc7fe182-8cf2-4d1e-a7f5-d708af9a9927",
        "colab": {
          "base_uri": "https://localhost:8080/"
        }
      },
      "outputs": [
        {
          "output_type": "execute_result",
          "data": {
            "text/plain": [
              "array([[2, 2, 4],\n",
              "       [4, 4, 2],\n",
              "       [1, 2, 1]])"
            ]
          },
          "metadata": {},
          "execution_count": 27
        }
      ],
      "source": [
        "arr1 * arr2"
      ]
    },
    {
      "cell_type": "code",
      "execution_count": null,
      "id": "5deffbb2",
      "metadata": {
        "id": "5deffbb2"
      },
      "outputs": [],
      "source": [
        "#matrix multiplication\n",
        "\n",
        "\n",
        "arr1"
      ]
    },
    {
      "cell_type": "code",
      "execution_count": null,
      "id": "7c831294",
      "metadata": {
        "id": "7c831294"
      },
      "outputs": [],
      "source": [
        "arr2"
      ]
    },
    {
      "cell_type": "code",
      "source": [
        "# suppose you're multiplying (mxn) matrix with (pxq), only multiply if n==p and the resulting materix will be in the dimension of m and q, or else multiplication will not happen."
      ],
      "metadata": {
        "id": "ZhaKjxRDdk33"
      },
      "id": "ZhaKjxRDdk33",
      "execution_count": null,
      "outputs": []
    },
    {
      "cell_type": "code",
      "execution_count": 28,
      "id": "c3c78008",
      "metadata": {
        "id": "c3c78008",
        "outputId": "3380147b-bbb4-4ebc-8734-0cb83ebcb737",
        "colab": {
          "base_uri": "https://localhost:8080/"
        }
      },
      "outputs": [
        {
          "output_type": "execute_result",
          "data": {
            "text/plain": [
              "array([[ 8, 10,  8],\n",
              "       [ 8, 10,  8],\n",
              "       [ 4,  5,  4]])"
            ]
          },
          "metadata": {},
          "execution_count": 28
        }
      ],
      "source": [
        "arr1 @ arr2 # matrix multiplication"
      ]
    },
    {
      "cell_type": "code",
      "execution_count": 30,
      "id": "c69beefc",
      "metadata": {
        "id": "c69beefc",
        "outputId": "f7198beb-309d-4ad2-c464-05e39c102714",
        "colab": {
          "base_uri": "https://localhost:8080/"
        }
      },
      "outputs": [
        {
          "output_type": "execute_result",
          "data": {
            "text/plain": [
              "array([[2, 2, 2],\n",
              "       [2, 2, 2],\n",
              "       [1, 1, 1]])"
            ]
          },
          "metadata": {},
          "execution_count": 30
        }
      ],
      "source": [
        "arr1"
      ]
    },
    {
      "cell_type": "code",
      "execution_count": 31,
      "id": "7a2660f8",
      "metadata": {
        "id": "7a2660f8",
        "outputId": "082a8d6a-20af-430a-8d1e-121f46c1ade9",
        "colab": {
          "base_uri": "https://localhost:8080/"
        }
      },
      "outputs": [
        {
          "output_type": "execute_result",
          "data": {
            "text/plain": [
              "array([[1, 1, 2],\n",
              "       [2, 2, 1],\n",
              "       [1, 2, 1]])"
            ]
          },
          "metadata": {},
          "execution_count": 31
        }
      ],
      "source": [
        "arr2"
      ]
    },
    {
      "cell_type": "code",
      "execution_count": 29,
      "id": "0d4823ce",
      "metadata": {
        "id": "0d4823ce",
        "outputId": "926540ab-1117-44c1-c431-0f8baba371a5",
        "colab": {
          "base_uri": "https://localhost:8080/"
        }
      },
      "outputs": [
        {
          "output_type": "execute_result",
          "data": {
            "text/plain": [
              "array([[2. , 2. , 1. ],\n",
              "       [1. , 1. , 2. ],\n",
              "       [1. , 0.5, 1. ]])"
            ]
          },
          "metadata": {},
          "execution_count": 29
        }
      ],
      "source": [
        "arr1 / arr2 #index wise divison"
      ]
    },
    {
      "cell_type": "code",
      "execution_count": null,
      "id": "d83ad767",
      "metadata": {
        "id": "d83ad767"
      },
      "outputs": [],
      "source": [
        "arr1"
      ]
    },
    {
      "cell_type": "code",
      "execution_count": 32,
      "id": "f28fff19",
      "metadata": {
        "id": "f28fff19",
        "outputId": "7bb4fb74-9ac5-4b5a-8a61-bcc15ef9b5a9",
        "colab": {
          "base_uri": "https://localhost:8080/"
        }
      },
      "outputs": [
        {
          "output_type": "stream",
          "name": "stderr",
          "text": [
            "<ipython-input-32-f39b50d43667>:1: RuntimeWarning: divide by zero encountered in divide\n",
            "  arr1 / 0\n"
          ]
        },
        {
          "output_type": "execute_result",
          "data": {
            "text/plain": [
              "array([[inf, inf, inf],\n",
              "       [inf, inf, inf],\n",
              "       [inf, inf, inf]])"
            ]
          },
          "metadata": {},
          "execution_count": 32
        }
      ],
      "source": [
        "arr1 / 0 # numpy understand infinity but python does-not"
      ]
    },
    {
      "cell_type": "code",
      "execution_count": null,
      "id": "b5ded093",
      "metadata": {
        "id": "b5ded093"
      },
      "outputs": [],
      "source": [
        "#Broad casting"
      ]
    },
    {
      "cell_type": "code",
      "execution_count": 33,
      "id": "b0e00c9a",
      "metadata": {
        "id": "b0e00c9a"
      },
      "outputs": [],
      "source": [
        "arr = np.zeros((3, 4))"
      ]
    },
    {
      "cell_type": "code",
      "execution_count": 34,
      "id": "55b7bd96",
      "metadata": {
        "id": "55b7bd96",
        "outputId": "008e54f2-31f3-4cf3-b0f9-b9079b94a727",
        "colab": {
          "base_uri": "https://localhost:8080/"
        }
      },
      "outputs": [
        {
          "output_type": "execute_result",
          "data": {
            "text/plain": [
              "array([[0., 0., 0., 0.],\n",
              "       [0., 0., 0., 0.],\n",
              "       [0., 0., 0., 0.]])"
            ]
          },
          "metadata": {},
          "execution_count": 34
        }
      ],
      "source": [
        "arr"
      ]
    },
    {
      "cell_type": "code",
      "execution_count": 35,
      "id": "47898885",
      "metadata": {
        "id": "47898885",
        "outputId": "362e0089-d485-4439-c81b-c4ab56dad0e2",
        "colab": {
          "base_uri": "https://localhost:8080/"
        }
      },
      "outputs": [
        {
          "output_type": "execute_result",
          "data": {
            "text/plain": [
              "array([[5., 5., 5., 5.],\n",
              "       [5., 5., 5., 5.],\n",
              "       [5., 5., 5., 5.]])"
            ]
          },
          "metadata": {},
          "execution_count": 35
        }
      ],
      "source": [
        "arr + 5"
      ]
    },
    {
      "cell_type": "code",
      "execution_count": 36,
      "id": "3e50be88",
      "metadata": {
        "id": "3e50be88",
        "outputId": "3f5044a1-6c9f-4a9b-8746-a723b825afd4",
        "colab": {
          "base_uri": "https://localhost:8080/"
        }
      },
      "outputs": [
        {
          "output_type": "execute_result",
          "data": {
            "text/plain": [
              "array([[0., 0., 0., 0.],\n",
              "       [0., 0., 0., 0.],\n",
              "       [0., 0., 0., 0.]])"
            ]
          },
          "metadata": {},
          "execution_count": 36
        }
      ],
      "source": [
        "arr"
      ]
    },
    {
      "cell_type": "code",
      "execution_count": 37,
      "id": "c978f4d8",
      "metadata": {
        "id": "c978f4d8"
      },
      "outputs": [],
      "source": [
        "a = np.array([1, 2, 3, 4])"
      ]
    },
    {
      "cell_type": "code",
      "execution_count": 38,
      "id": "3169f1ae",
      "metadata": {
        "id": "3169f1ae",
        "outputId": "7a147760-0a04-4462-a592-c427e734d808",
        "colab": {
          "base_uri": "https://localhost:8080/"
        }
      },
      "outputs": [
        {
          "output_type": "execute_result",
          "data": {
            "text/plain": [
              "(4,)"
            ]
          },
          "metadata": {},
          "execution_count": 38
        }
      ],
      "source": [
        "a.shape"
      ]
    },
    {
      "cell_type": "code",
      "execution_count": 39,
      "id": "55b0c659",
      "metadata": {
        "id": "55b0c659",
        "outputId": "291723e4-5d35-49ed-8ff2-a3c1dfe50f3c",
        "colab": {
          "base_uri": "https://localhost:8080/"
        }
      },
      "outputs": [
        {
          "output_type": "execute_result",
          "data": {
            "text/plain": [
              "array([1, 2, 3, 4])"
            ]
          },
          "metadata": {},
          "execution_count": 39
        }
      ],
      "source": [
        "a"
      ]
    },
    {
      "cell_type": "code",
      "execution_count": 40,
      "id": "0299ce78",
      "metadata": {
        "id": "0299ce78",
        "outputId": "97fec2d0-cbcc-4e37-a93b-01216bca96f6",
        "colab": {
          "base_uri": "https://localhost:8080/"
        }
      },
      "outputs": [
        {
          "output_type": "execute_result",
          "data": {
            "text/plain": [
              "array([[1., 2., 3., 4.],\n",
              "       [1., 2., 3., 4.],\n",
              "       [1., 2., 3., 4.]])"
            ]
          },
          "metadata": {},
          "execution_count": 40
        }
      ],
      "source": [
        "arr + a"
      ]
    },
    {
      "cell_type": "code",
      "execution_count": 41,
      "id": "034c58d9",
      "metadata": {
        "id": "034c58d9",
        "outputId": "d47a5079-c7d4-4d5e-9f28-d2fe1f8cb084",
        "colab": {
          "base_uri": "https://localhost:8080/"
        }
      },
      "outputs": [
        {
          "output_type": "execute_result",
          "data": {
            "text/plain": [
              "array([[0., 0., 0., 0.],\n",
              "       [0., 0., 0., 0.],\n",
              "       [0., 0., 0., 0.]])"
            ]
          },
          "metadata": {},
          "execution_count": 41
        }
      ],
      "source": [
        "arr"
      ]
    },
    {
      "cell_type": "code",
      "execution_count": 42,
      "id": "5a2fe461",
      "metadata": {
        "id": "5a2fe461",
        "outputId": "8f919bee-cfbc-4568-e6b2-4bf5708de562",
        "colab": {
          "base_uri": "https://localhost:8080/"
        }
      },
      "outputs": [
        {
          "output_type": "execute_result",
          "data": {
            "text/plain": [
              "array([1, 2, 3, 4])"
            ]
          },
          "metadata": {},
          "execution_count": 42
        }
      ],
      "source": [
        "a"
      ]
    },
    {
      "cell_type": "code",
      "execution_count": 43,
      "id": "a2c96ff1",
      "metadata": {
        "id": "a2c96ff1"
      },
      "outputs": [],
      "source": [
        "a = np.array([1, 2, 3])"
      ]
    },
    {
      "cell_type": "code",
      "execution_count": 44,
      "id": "718a6a3a",
      "metadata": {
        "id": "718a6a3a"
      },
      "outputs": [],
      "source": [
        "a = np.array([[1, 2, 3]])"
      ]
    },
    {
      "cell_type": "code",
      "execution_count": 45,
      "id": "200aab46",
      "metadata": {
        "id": "200aab46",
        "outputId": "776da6d6-bc84-4cc3-e83d-e70150511f1a",
        "colab": {
          "base_uri": "https://localhost:8080/"
        }
      },
      "outputs": [
        {
          "output_type": "execute_result",
          "data": {
            "text/plain": [
              "array([[1],\n",
              "       [2],\n",
              "       [3]])"
            ]
          },
          "metadata": {},
          "execution_count": 45
        }
      ],
      "source": [
        "a.T"
      ]
    },
    {
      "cell_type": "code",
      "execution_count": 46,
      "id": "f2be4d51",
      "metadata": {
        "id": "f2be4d51",
        "outputId": "5ba38c3b-9484-40d2-b680-1b054fce4429",
        "colab": {
          "base_uri": "https://localhost:8080/"
        }
      },
      "outputs": [
        {
          "output_type": "execute_result",
          "data": {
            "text/plain": [
              "array([[0., 0., 0., 0.],\n",
              "       [0., 0., 0., 0.],\n",
              "       [0., 0., 0., 0.]])"
            ]
          },
          "metadata": {},
          "execution_count": 46
        }
      ],
      "source": [
        "arr"
      ]
    },
    {
      "cell_type": "code",
      "execution_count": 47,
      "id": "c1d91aa4",
      "metadata": {
        "id": "c1d91aa4",
        "outputId": "c2b39aa0-7e2b-4255-d8c9-7223618388ea",
        "colab": {
          "base_uri": "https://localhost:8080/"
        }
      },
      "outputs": [
        {
          "output_type": "execute_result",
          "data": {
            "text/plain": [
              "array([[1, 2, 3]])"
            ]
          },
          "metadata": {},
          "execution_count": 47
        }
      ],
      "source": [
        "a"
      ]
    },
    {
      "cell_type": "code",
      "execution_count": 48,
      "id": "81197e9e",
      "metadata": {
        "id": "81197e9e",
        "outputId": "a719c210-3e7e-4ddc-c1b1-7c3ad67c4f44",
        "colab": {
          "base_uri": "https://localhost:8080/"
        }
      },
      "outputs": [
        {
          "output_type": "execute_result",
          "data": {
            "text/plain": [
              "array([[1., 1., 1., 1.],\n",
              "       [2., 2., 2., 2.],\n",
              "       [3., 3., 3., 3.]])"
            ]
          },
          "metadata": {},
          "execution_count": 48
        }
      ],
      "source": [
        "arr + a.T"
      ]
    },
    {
      "cell_type": "code",
      "execution_count": null,
      "id": "53c8e788",
      "metadata": {
        "id": "53c8e788"
      },
      "outputs": [],
      "source": [
        "a.T"
      ]
    },
    {
      "cell_type": "code",
      "execution_count": null,
      "id": "86439d80",
      "metadata": {
        "id": "86439d80"
      },
      "outputs": [],
      "source": [
        "a = np.array([1, 2, 3])\n",
        "a.T"
      ]
    },
    {
      "cell_type": "code",
      "execution_count": 49,
      "id": "9a3d6d14",
      "metadata": {
        "id": "9a3d6d14",
        "outputId": "56a5daa6-0bc9-45ff-e289-756f6cbc08dd",
        "colab": {
          "base_uri": "https://localhost:8080/"
        }
      },
      "outputs": [
        {
          "output_type": "execute_result",
          "data": {
            "text/plain": [
              "array([[2, 2, 2],\n",
              "       [2, 2, 2],\n",
              "       [1, 1, 1]])"
            ]
          },
          "metadata": {},
          "execution_count": 49
        }
      ],
      "source": [
        "arr1"
      ]
    },
    {
      "cell_type": "code",
      "execution_count": 50,
      "id": "82b980a2",
      "metadata": {
        "id": "82b980a2",
        "outputId": "5d6cd7c0-8641-4fb9-db50-c10675938045",
        "colab": {
          "base_uri": "https://localhost:8080/"
        }
      },
      "outputs": [
        {
          "output_type": "execute_result",
          "data": {
            "text/plain": [
              "array([[1.41421356, 1.41421356, 1.41421356],\n",
              "       [1.41421356, 1.41421356, 1.41421356],\n",
              "       [1.        , 1.        , 1.        ]])"
            ]
          },
          "metadata": {},
          "execution_count": 50
        }
      ],
      "source": [
        "np.sqrt(arr1)"
      ]
    },
    {
      "cell_type": "code",
      "execution_count": 51,
      "id": "7dd0a1a0",
      "metadata": {
        "id": "7dd0a1a0",
        "outputId": "b4b695d1-a8d5-4f8b-f6c6-cbd5374423ad",
        "colab": {
          "base_uri": "https://localhost:8080/"
        }
      },
      "outputs": [
        {
          "output_type": "execute_result",
          "data": {
            "text/plain": [
              "array([[0.30103, 0.30103, 0.30103],\n",
              "       [0.30103, 0.30103, 0.30103],\n",
              "       [0.     , 0.     , 0.     ]])"
            ]
          },
          "metadata": {},
          "execution_count": 51
        }
      ],
      "source": [
        "np.log10(arr1)"
      ]
    },
    {
      "cell_type": "code",
      "execution_count": 52,
      "id": "6aa90ca6",
      "metadata": {
        "id": "6aa90ca6",
        "outputId": "b2fb0dc0-fc69-400b-f747-3a94307f2b75",
        "colab": {
          "base_uri": "https://localhost:8080/"
        }
      },
      "outputs": [
        {
          "output_type": "execute_result",
          "data": {
            "text/plain": [
              "array([[7.3890561 , 7.3890561 , 7.3890561 ],\n",
              "       [7.3890561 , 7.3890561 , 7.3890561 ],\n",
              "       [2.71828183, 2.71828183, 2.71828183]])"
            ]
          },
          "metadata": {},
          "execution_count": 52
        }
      ],
      "source": [
        "np.exp(arr1)"
      ]
    },
    {
      "cell_type": "code",
      "execution_count": 53,
      "id": "0f87492c",
      "metadata": {
        "id": "0f87492c",
        "outputId": "48fb0315-4045-494b-c42f-2fdbcfac1001",
        "colab": {
          "base_uri": "https://localhost:8080/"
        }
      },
      "outputs": [
        {
          "output_type": "execute_result",
          "data": {
            "text/plain": [
              "array([[1, 2, 3]])"
            ]
          },
          "metadata": {},
          "execution_count": 53
        }
      ],
      "source": [
        "a"
      ]
    },
    {
      "cell_type": "code",
      "execution_count": 54,
      "id": "854f7be9",
      "metadata": {
        "id": "854f7be9",
        "outputId": "9740819b-ec2d-42db-c6d2-bb60de835a35",
        "colab": {
          "base_uri": "https://localhost:8080/"
        }
      },
      "outputs": [
        {
          "output_type": "execute_result",
          "data": {
            "text/plain": [
              "1"
            ]
          },
          "metadata": {},
          "execution_count": 54
        }
      ],
      "source": [
        "np.min(a)"
      ]
    },
    {
      "cell_type": "code",
      "execution_count": 55,
      "id": "a6029775",
      "metadata": {
        "id": "a6029775",
        "outputId": "0efcecd6-e559-4f96-d356-d6498ee8fc9e",
        "colab": {
          "base_uri": "https://localhost:8080/"
        }
      },
      "outputs": [
        {
          "output_type": "execute_result",
          "data": {
            "text/plain": [
              "array([[2, 2, 2],\n",
              "       [2, 2, 2],\n",
              "       [1, 1, 1]])"
            ]
          },
          "metadata": {},
          "execution_count": 55
        }
      ],
      "source": [
        "arr1"
      ]
    },
    {
      "cell_type": "code",
      "execution_count": 56,
      "id": "1f91f13b",
      "metadata": {
        "id": "1f91f13b",
        "outputId": "773c2e2b-5bb0-46f2-8a7f-30fa401e1c7f",
        "colab": {
          "base_uri": "https://localhost:8080/"
        }
      },
      "outputs": [
        {
          "output_type": "execute_result",
          "data": {
            "text/plain": [
              "1"
            ]
          },
          "metadata": {},
          "execution_count": 56
        }
      ],
      "source": [
        "np.min(arr1)"
      ]
    },
    {
      "cell_type": "code",
      "execution_count": 57,
      "id": "87265817",
      "metadata": {
        "id": "87265817",
        "outputId": "b3d5d313-277a-4e5b-b2c1-83b093636c1a",
        "colab": {
          "base_uri": "https://localhost:8080/"
        }
      },
      "outputs": [
        {
          "output_type": "execute_result",
          "data": {
            "text/plain": [
              "2"
            ]
          },
          "metadata": {},
          "execution_count": 57
        }
      ],
      "source": [
        "np.max(arr1)"
      ]
    },
    {
      "cell_type": "code",
      "execution_count": null,
      "id": "41e1309e",
      "metadata": {
        "id": "41e1309e"
      },
      "outputs": [],
      "source": [
        "arr1"
      ]
    },
    {
      "cell_type": "code",
      "execution_count": 58,
      "id": "f63f6a3b",
      "metadata": {
        "id": "f63f6a3b",
        "outputId": "42121225-2cdd-4e5c-d5df-8861515a5c2f",
        "colab": {
          "base_uri": "https://localhost:8080/"
        }
      },
      "outputs": [
        {
          "output_type": "execute_result",
          "data": {
            "text/plain": [
              "array([[2, 2, 1],\n",
              "       [2, 2, 1],\n",
              "       [2, 2, 1]])"
            ]
          },
          "metadata": {},
          "execution_count": 58
        }
      ],
      "source": [
        "arr1.T"
      ]
    },
    {
      "cell_type": "code",
      "execution_count": 59,
      "id": "e2a97e60",
      "metadata": {
        "id": "e2a97e60",
        "outputId": "bd415f9f-d3f6-4e6e-b878-dc7416997001",
        "colab": {
          "base_uri": "https://localhost:8080/"
        }
      },
      "outputs": [
        {
          "output_type": "execute_result",
          "data": {
            "text/plain": [
              "array([2, 2, 2, 2, 2, 2, 1, 1, 1])"
            ]
          },
          "metadata": {},
          "execution_count": 59
        }
      ],
      "source": [
        "arr1.flatten() #reduce higher dimension to 1 d"
      ]
    },
    {
      "cell_type": "code",
      "execution_count": null,
      "id": "2fa0bd02",
      "metadata": {
        "id": "2fa0bd02"
      },
      "outputs": [],
      "source": [
        "#expand_dims >>  expands the array by inserting a new axis"
      ]
    },
    {
      "cell_type": "code",
      "execution_count": 62,
      "id": "48a65036",
      "metadata": {
        "id": "48a65036"
      },
      "outputs": [],
      "source": [
        "arr = np.array([[1, 2, 3], [4, 5, 6], [1, 2, 3]])"
      ]
    },
    {
      "cell_type": "code",
      "execution_count": 63,
      "id": "d68d5563",
      "metadata": {
        "id": "d68d5563",
        "outputId": "c46c8d80-83ad-4650-849b-64e3f1d0acef",
        "colab": {
          "base_uri": "https://localhost:8080/"
        }
      },
      "outputs": [
        {
          "output_type": "execute_result",
          "data": {
            "text/plain": [
              "array([[1, 2, 3],\n",
              "       [4, 5, 6],\n",
              "       [1, 2, 3]])"
            ]
          },
          "metadata": {},
          "execution_count": 63
        }
      ],
      "source": [
        "arr"
      ]
    },
    {
      "cell_type": "code",
      "execution_count": 64,
      "id": "e13ccc5e",
      "metadata": {
        "id": "e13ccc5e",
        "outputId": "db08ac3a-5dd1-4971-fd65-fc181f47a39c",
        "colab": {
          "base_uri": "https://localhost:8080/"
        }
      },
      "outputs": [
        {
          "output_type": "execute_result",
          "data": {
            "text/plain": [
              "27"
            ]
          },
          "metadata": {},
          "execution_count": 64
        }
      ],
      "source": [
        "np.sum(arr)"
      ]
    },
    {
      "cell_type": "code",
      "execution_count": 65,
      "id": "f19cc723",
      "metadata": {
        "id": "f19cc723",
        "outputId": "5154ac95-5e70-4ee9-b522-77174dec66ea",
        "colab": {
          "base_uri": "https://localhost:8080/"
        }
      },
      "outputs": [
        {
          "output_type": "execute_result",
          "data": {
            "text/plain": [
              "array([ 6,  9, 12])"
            ]
          },
          "metadata": {},
          "execution_count": 65
        }
      ],
      "source": [
        "np.sum(arr, axis = 0) # sum row wise, tho it seems column wise"
      ]
    },
    {
      "cell_type": "code",
      "execution_count": 66,
      "id": "0bccd187",
      "metadata": {
        "id": "0bccd187",
        "outputId": "d4d9828b-2748-4451-d1be-177b29d519f4",
        "colab": {
          "base_uri": "https://localhost:8080/"
        }
      },
      "outputs": [
        {
          "output_type": "execute_result",
          "data": {
            "text/plain": [
              "array([ 6, 15,  6])"
            ]
          },
          "metadata": {},
          "execution_count": 66
        }
      ],
      "source": [
        "np.sum(arr, axis = 1) # sum column wise, tho it seems row wise"
      ]
    },
    {
      "cell_type": "code",
      "execution_count": 67,
      "id": "cb8dd6cc",
      "metadata": {
        "id": "cb8dd6cc",
        "outputId": "7addef67-31f2-4b73-bcdd-4d465cc623dd",
        "colab": {
          "base_uri": "https://localhost:8080/"
        }
      },
      "outputs": [
        {
          "output_type": "execute_result",
          "data": {
            "text/plain": [
              "array([1, 2, 3, 4])"
            ]
          },
          "metadata": {},
          "execution_count": 67
        }
      ],
      "source": [
        "#expand_dims >>expand the dimension of array\n",
        "arr = np.array([1, 2, 3, 4])\n",
        "arr"
      ]
    },
    {
      "cell_type": "code",
      "execution_count": 68,
      "id": "8dac2abb",
      "metadata": {
        "id": "8dac2abb",
        "outputId": "131434be-47bb-4ae5-efad-1593753dee78",
        "colab": {
          "base_uri": "https://localhost:8080/"
        }
      },
      "outputs": [
        {
          "output_type": "execute_result",
          "data": {
            "text/plain": [
              "1"
            ]
          },
          "metadata": {},
          "execution_count": 68
        }
      ],
      "source": [
        "arr.ndim"
      ]
    },
    {
      "cell_type": "code",
      "execution_count": 69,
      "id": "d2c32faa",
      "metadata": {
        "id": "d2c32faa",
        "outputId": "3b5dbd53-2068-4abc-fa22-21a187939905",
        "colab": {
          "base_uri": "https://localhost:8080/"
        }
      },
      "outputs": [
        {
          "output_type": "execute_result",
          "data": {
            "text/plain": [
              "array([[1, 2, 3, 4]])"
            ]
          },
          "metadata": {},
          "execution_count": 69
        }
      ],
      "source": [
        "arr1 = np.expand_dims(arr, axis = 0)\n",
        "arr1"
      ]
    },
    {
      "cell_type": "code",
      "execution_count": 70,
      "id": "16c72f70",
      "metadata": {
        "id": "16c72f70",
        "outputId": "0e0902b8-33d6-4058-a569-374b28b54faf",
        "colab": {
          "base_uri": "https://localhost:8080/"
        }
      },
      "outputs": [
        {
          "output_type": "execute_result",
          "data": {
            "text/plain": [
              "2"
            ]
          },
          "metadata": {},
          "execution_count": 70
        }
      ],
      "source": [
        "arr1.ndim"
      ]
    },
    {
      "cell_type": "code",
      "execution_count": 71,
      "id": "aee06f68",
      "metadata": {
        "id": "aee06f68",
        "outputId": "a3ca0464-4249-462e-f3e8-04c493b08ec8",
        "colab": {
          "base_uri": "https://localhost:8080/"
        }
      },
      "outputs": [
        {
          "output_type": "execute_result",
          "data": {
            "text/plain": [
              "array([[[1, 2, 3, 4]]])"
            ]
          },
          "metadata": {},
          "execution_count": 71
        }
      ],
      "source": [
        "arr2 = np.expand_dims(arr1, axis = 0) # increses the dimention of passed array by 1\n",
        "arr2"
      ]
    },
    {
      "cell_type": "code",
      "execution_count": 72,
      "id": "6b0d0564",
      "metadata": {
        "id": "6b0d0564",
        "outputId": "863baed8-a28c-4fa3-f14e-6106853d4920",
        "colab": {
          "base_uri": "https://localhost:8080/"
        }
      },
      "outputs": [
        {
          "output_type": "execute_result",
          "data": {
            "text/plain": [
              "(1, 1, 4)"
            ]
          },
          "metadata": {},
          "execution_count": 72
        }
      ],
      "source": [
        "arr2.shape"
      ]
    },
    {
      "cell_type": "code",
      "execution_count": 73,
      "id": "0e2c334a",
      "metadata": {
        "id": "0e2c334a",
        "outputId": "c93c13db-00c0-410d-85ec-b8e770eb108a",
        "colab": {
          "base_uri": "https://localhost:8080/"
        }
      },
      "outputs": [
        {
          "output_type": "execute_result",
          "data": {
            "text/plain": [
              "array([1, 2, 3, 4])"
            ]
          },
          "metadata": {},
          "execution_count": 73
        }
      ],
      "source": [
        "arr"
      ]
    },
    {
      "cell_type": "code",
      "execution_count": 74,
      "id": "776f2f79",
      "metadata": {
        "id": "776f2f79",
        "outputId": "191f957a-ebe3-4d9d-c786-084e1f686e04",
        "colab": {
          "base_uri": "https://localhost:8080/"
        }
      },
      "outputs": [
        {
          "output_type": "execute_result",
          "data": {
            "text/plain": [
              "array([[1],\n",
              "       [2],\n",
              "       [3],\n",
              "       [4]])"
            ]
          },
          "metadata": {},
          "execution_count": 74
        }
      ],
      "source": [
        "arr1 = np.expand_dims(arr, axis = 1)\n",
        "arr1"
      ]
    },
    {
      "cell_type": "code",
      "execution_count": 79,
      "id": "5355ca8f",
      "metadata": {
        "id": "5355ca8f"
      },
      "outputs": [],
      "source": [
        "arr = np.zeros((3, 4))"
      ]
    },
    {
      "cell_type": "code",
      "execution_count": 76,
      "id": "94077756",
      "metadata": {
        "id": "94077756",
        "outputId": "5d9909be-41c8-47f9-8639-09cd5f3b3671",
        "colab": {
          "base_uri": "https://localhost:8080/"
        }
      },
      "outputs": [
        {
          "output_type": "execute_result",
          "data": {
            "text/plain": [
              "array([[0., 0., 0., 0.],\n",
              "       [0., 0., 0., 0.],\n",
              "       [0., 0., 0., 0.]])"
            ]
          },
          "metadata": {},
          "execution_count": 76
        }
      ],
      "source": [
        "arr"
      ]
    },
    {
      "cell_type": "code",
      "execution_count": 77,
      "id": "3d3e77d7",
      "metadata": {
        "id": "3d3e77d7",
        "outputId": "8664b54e-3006-470c-e487-e27f1835338f",
        "colab": {
          "base_uri": "https://localhost:8080/"
        }
      },
      "outputs": [
        {
          "output_type": "execute_result",
          "data": {
            "text/plain": [
              "array([[[0., 0., 0., 0.]],\n",
              "\n",
              "       [[0., 0., 0., 0.]],\n",
              "\n",
              "       [[0., 0., 0., 0.]]])"
            ]
          },
          "metadata": {},
          "execution_count": 77
        }
      ],
      "source": [
        "arr1 = np.expand_dims(arr, axis = 1) # column wise dinesion has incresed by 1\n",
        "arr1"
      ]
    },
    {
      "cell_type": "code",
      "execution_count": 78,
      "id": "5b28036c",
      "metadata": {
        "id": "5b28036c",
        "outputId": "489e1f1a-7313-4a61-99f7-02da8727f817",
        "colab": {
          "base_uri": "https://localhost:8080/"
        }
      },
      "outputs": [
        {
          "output_type": "execute_result",
          "data": {
            "text/plain": [
              "array([[[0., 0., 0., 0.],\n",
              "        [0., 0., 0., 0.],\n",
              "        [0., 0., 0., 0.]]])"
            ]
          },
          "metadata": {},
          "execution_count": 78
        }
      ],
      "source": [
        "arr1 = np.expand_dims(arr, axis = 0) #row wise the dimension has increased by 1\n",
        "arr1"
      ]
    },
    {
      "cell_type": "code",
      "execution_count": 78,
      "id": "f7f66d49",
      "metadata": {
        "id": "f7f66d49"
      },
      "outputs": [],
      "source": []
    }
  ],
  "metadata": {
    "kernelspec": {
      "display_name": "Python 3 (ipykernel)",
      "language": "python",
      "name": "python3"
    },
    "language_info": {
      "codemirror_mode": {
        "name": "ipython",
        "version": 3
      },
      "file_extension": ".py",
      "mimetype": "text/x-python",
      "name": "python",
      "nbconvert_exporter": "python",
      "pygments_lexer": "ipython3",
      "version": "3.11.4"
    },
    "colab": {
      "provenance": []
    }
  },
  "nbformat": 4,
  "nbformat_minor": 5
}